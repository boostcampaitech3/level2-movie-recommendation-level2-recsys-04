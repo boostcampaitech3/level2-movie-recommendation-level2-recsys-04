{
 "cells": [
  {
   "cell_type": "code",
   "execution_count": 1,
   "metadata": {},
   "outputs": [],
   "source": [
    "from scipy import sparse\n",
    "import pandas as pd\n",
    "from preprocessing import filter_triplets, get_count, numerize\n",
    "import numpy as np"
   ]
  },
  {
   "cell_type": "code",
   "execution_count": null,
   "metadata": {},
   "outputs": [],
   "source": [
    "raw_data = pd.read_csv('/opt/ml/input/data/train/train_ratings.csv', header=0)\n",
    "raw_data, user_activity, item_popularity = filter_triplets(raw_data, min_uc=5, min_sc=0)\n",
    "\n",
    "unique_sid = raw_data['item'].unique()\n",
    "unique_uid = raw_data['user'].unique()\n",
    "\n",
    "show2id = dict((sid, i) for (i, sid) in enumerate(unique_sid))\n",
    "profile2id = dict((pid, i) for (i, pid) in enumerate(unique_uid))\n",
    "\n",
    "raw = numerize(raw_data, profile2id, show2id)\n",
    "n_users = raw['uid'].max() + 1\n",
    "n_items = len(unique_sid)\n",
    "\n",
    "rows, cols = raw['uid'], raw['sid']\n",
    "data = sparse.csr_matrix((np.ones_like(rows),\n",
    "                            (rows, cols)), dtype='float64',\n",
    "                            shape=(n_users, n_items))\n",
    "\n",
    "sparse.save_npz(\"raw_matrix.npz\", data)\n",
    "data = sparse.load_npz(\"raw_matrix.npz\")"
   ]
  }
 ],
 "metadata": {
  "interpreter": {
   "hash": "bfa81b72877e17ffd13af81ffddaaec7ef27eaa133a544c733d5043efbc1f4c7"
  },
  "kernelspec": {
   "display_name": "Python 3.8.5 ('.venv': venv)",
   "language": "python",
   "name": "python3"
  },
  "language_info": {
   "codemirror_mode": {
    "name": "ipython",
    "version": 3
   },
   "file_extension": ".py",
   "mimetype": "text/x-python",
   "name": "python",
   "nbconvert_exporter": "python",
   "pygments_lexer": "ipython3",
   "version": "3.8.5"
  },
  "orig_nbformat": 4
 },
 "nbformat": 4,
 "nbformat_minor": 2
}
