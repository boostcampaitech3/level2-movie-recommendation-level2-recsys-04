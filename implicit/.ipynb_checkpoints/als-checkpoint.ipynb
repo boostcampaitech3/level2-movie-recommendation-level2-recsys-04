{
 "cells": [
  {
   "cell_type": "code",
   "execution_count": 85,
   "id": "5bf524e8-ef35-4a1d-a384-4b9356b7123e",
   "metadata": {},
   "outputs": [],
   "source": [
    "import implicit\n",
    "import pandas as pd\n",
    "import numpy as np\n",
    "from scipy import sparse\n",
    "from tqdm import tqdm"
   ]
  },
  {
   "cell_type": "code",
   "execution_count": 11,
   "id": "b6f5037f-5641-4653-8008-6fa0493af5e1",
   "metadata": {},
   "outputs": [],
   "source": [
    "def get_count(tp, id):\n",
    "    # group by 오브젝트 index=True로 해야 id 가 index값으로 들어감\n",
    "    playcount_groupbyid = tp[[id]].groupby(id, as_index=True)\n",
    "    # 이걸하면 sql의 count 와 동일해짐\n",
    "    count = playcount_groupbyid.size() \n",
    "    return count"
   ]
  },
  {
   "cell_type": "code",
   "execution_count": 12,
   "id": "20bd580b-909a-47e4-802b-989e6ffda41d",
   "metadata": {},
   "outputs": [],
   "source": [
    "def filter_triplets(tp, min_uc=5, min_sc=0):\n",
    "    if min_sc > 0:\n",
    "        itemcount = get_count(tp, 'item')\n",
    "        tp = tp[tp['item'].isin(itemcount.index[itemcount >= min_sc])]\n",
    "    \n",
    "    if min_uc > 0:\n",
    "        usercount = get_count(tp, 'user')\n",
    "        tp = tp[tp['user'].isin(usercount.index[usercount >= min_uc])]\n",
    "\n",
    "    usercount, itemcount = get_count(tp, 'user'), get_count(tp, 'item') \n",
    "    return tp, usercount, itemcount"
   ]
  },
  {
   "cell_type": "code",
   "execution_count": 17,
   "id": "5bd86e6a-11d7-4be3-ad60-c69c2bd0a398",
   "metadata": {},
   "outputs": [],
   "source": [
    "def numerize(tp, profile2id, show2id):\n",
    "    uid = tp['user'].apply(lambda x: profile2id[x])\n",
    "    sid = tp['item'].apply(lambda x: show2id[x])\n",
    "    return pd.DataFrame(data={'uid': uid, 'sid': sid}, columns=['uid', 'sid'])"
   ]
  },
  {
   "cell_type": "code",
   "execution_count": 15,
   "id": "e8409eba-6f49-4c90-9311-4b497d806466",
   "metadata": {},
   "outputs": [],
   "source": [
    "raw_data = pd.read_csv('/opt/ml/input/data/train/train_ratings.csv', header=0)\n",
    "raw_data, user_activity, item_popularity = filter_triplets(raw_data, min_uc=5, min_sc=0)\n",
    "\n",
    "unique_uid = raw_data['user'].unique()\n",
    "unique_sid = raw_data['item'].unique()\n",
    "\n",
    "profile2id = dict((pid, i) for (i, pid) in enumerate(unique_uid))\n",
    "show2id = dict((sid, i) for (i, sid) in enumerate(unique_sid))"
   ]
  },
  {
   "cell_type": "code",
   "execution_count": 66,
   "id": "1387a607-97a6-4b95-99a1-34697c108718",
   "metadata": {},
   "outputs": [],
   "source": [
    "raw = numerize(raw_data, profile2id, show2id)\n",
    "n_users = len(unique_uid)\n",
    "n_items = len(unique_sid)\n",
    "\n",
    "rows, cols = raw['uid'], raw['sid']\n",
    "data = sparse.csr_matrix((np.ones_like(rows),\n",
    "                            (rows, cols)), dtype='float64',\n",
    "                            shape=(n_users, n_items))"
   ]
  },
  {
   "cell_type": "code",
   "execution_count": 67,
   "id": "8b6b3063-0a42-48c1-b5b2-ae1733fbe22b",
   "metadata": {},
   "outputs": [],
   "source": [
    "user_item_matrix = data.toarray() "
   ]
  },
  {
   "cell_type": "code",
   "execution_count": 74,
   "id": "46743b0a-f5cb-4656-9d6a-091c64342ec0",
   "metadata": {},
   "outputs": [],
   "source": [
    "model = implicit.als.AlternatingLeastSquares(factors=200)"
   ]
  },
  {
   "cell_type": "code",
   "execution_count": 75,
   "id": "175c4f90-c2d2-44b7-8d2b-a56bfb82e8f7",
   "metadata": {},
   "outputs": [
    {
     "data": {
      "application/vnd.jupyter.widget-view+json": {
       "model_id": "99962d8ab2b7481996b0b36bb285542d",
       "version_major": 2,
       "version_minor": 0
      },
      "text/plain": [
       "  0%|          | 0/15 [00:00<?, ?it/s]"
      ]
     },
     "metadata": {},
     "output_type": "display_data"
    }
   ],
   "source": [
    "model.fit(data)"
   ]
  },
  {
   "cell_type": "code",
   "execution_count": 86,
   "id": "7be6a9ff-8f72-4e67-b437-ac463920c623",
   "metadata": {},
   "outputs": [],
   "source": [
    "id2profile= dict(map(reversed,profile2id.items()))\n",
    "id2show= dict(map(reversed,show2id.items())) "
   ]
  },
  {
   "cell_type": "code",
   "execution_count": 94,
   "id": "242e58fd-49fd-4fed-a696-0b7ea252ef9b",
   "metadata": {},
   "outputs": [
    {
     "ename": "TypeError",
     "evalue": "'module' object is not callable",
     "output_type": "error",
     "traceback": [
      "\u001b[0;31m---------------------------------------------------------------------------\u001b[0m",
      "\u001b[0;31mTypeError\u001b[0m                                 Traceback (most recent call last)",
      "Input \u001b[0;32mIn [94]\u001b[0m, in \u001b[0;36m<cell line: 1>\u001b[0;34m()\u001b[0m\n\u001b[0;32m----> 1\u001b[0m \u001b[38;5;28;01mfor\u001b[39;00m user \u001b[38;5;129;01min\u001b[39;00m \u001b[43mtqdm\u001b[49m\u001b[43m(\u001b[49m\u001b[43munique_uid\u001b[49m\u001b[43m)\u001b[49m:\n\u001b[1;32m      2\u001b[0m     recommendations \u001b[38;5;241m=\u001b[39m model\u001b[38;5;241m.\u001b[39mrecommend(user, data[user])\n",
      "\u001b[0;31mTypeError\u001b[0m: 'module' object is not callable"
     ]
    }
   ],
   "source": [
    "for user in tqdm(unique_uid):\n",
    "    recommendations = model.recommend(user, data[user])"
   ]
  },
  {
   "cell_type": "code",
   "execution_count": 93,
   "id": "a5de1c17-6cce-4fa5-935e-4083b15b09e4",
   "metadata": {},
   "outputs": [],
   "source": [
    "for user in unique_uid:\n",
    "    user"
   ]
  },
  {
   "cell_type": "code",
   "execution_count": null,
   "id": "26df4f3c-a7ab-4556-81aa-99e1540fe3ac",
   "metadata": {},
   "outputs": [],
   "source": []
  }
 ],
 "metadata": {
  "kernelspec": {
   "display_name": "Python 3 (ipykernel)",
   "language": "python",
   "name": "python3"
  },
  "language_info": {
   "codemirror_mode": {
    "name": "ipython",
    "version": 3
   },
   "file_extension": ".py",
   "mimetype": "text/x-python",
   "name": "python",
   "nbconvert_exporter": "python",
   "pygments_lexer": "ipython3",
   "version": "3.8.5"
  }
 },
 "nbformat": 4,
 "nbformat_minor": 5
}
