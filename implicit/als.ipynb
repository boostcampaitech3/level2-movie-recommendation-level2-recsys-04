{
 "cells": [
  {
   "cell_type": "code",
   "execution_count": 118,
   "id": "5bf524e8-ef35-4a1d-a384-4b9356b7123e",
   "metadata": {},
   "outputs": [],
   "source": [
    "from collections import defaultdict\n",
    "import implicit\n",
    "import pandas as pd\n",
    "import numpy as np\n",
    "from scipy import sparse\n",
    "from tqdm import tqdm\n",
    "import ast"
   ]
  },
  {
   "cell_type": "code",
   "execution_count": 11,
   "id": "b6f5037f-5641-4653-8008-6fa0493af5e1",
   "metadata": {},
   "outputs": [],
   "source": [
    "def get_count(tp, id):\n",
    "    # group by 오브젝트 index=True로 해야 id 가 index값으로 들어감\n",
    "    playcount_groupbyid = tp[[id]].groupby(id, as_index=True)\n",
    "    # 이걸하면 sql의 count 와 동일해짐\n",
    "    count = playcount_groupbyid.size() \n",
    "    return count"
   ]
  },
  {
   "cell_type": "code",
   "execution_count": 12,
   "id": "20bd580b-909a-47e4-802b-989e6ffda41d",
   "metadata": {},
   "outputs": [],
   "source": [
    "def filter_triplets(tp, min_uc=5, min_sc=0):\n",
    "    if min_sc > 0:\n",
    "        itemcount = get_count(tp, 'item')\n",
    "        tp = tp[tp['item'].isin(itemcount.index[itemcount >= min_sc])]\n",
    "    \n",
    "    if min_uc > 0:\n",
    "        usercount = get_count(tp, 'user')\n",
    "        tp = tp[tp['user'].isin(usercount.index[usercount >= min_uc])]\n",
    "\n",
    "    usercount, itemcount = get_count(tp, 'user'), get_count(tp, 'item') \n",
    "    return tp, usercount, itemcount"
   ]
  },
  {
   "cell_type": "code",
   "execution_count": 17,
   "id": "5bd86e6a-11d7-4be3-ad60-c69c2bd0a398",
   "metadata": {},
   "outputs": [],
   "source": [
    "def numerize(tp, profile2id, show2id):\n",
    "    uid = tp['user'].apply(lambda x: profile2id[x])\n",
    "    sid = tp['item'].apply(lambda x: show2id[x])\n",
    "    return pd.DataFrame(data={'uid': uid, 'sid': sid}, columns=['uid', 'sid'])"
   ]
  },
  {
   "cell_type": "code",
   "execution_count": 15,
   "id": "e8409eba-6f49-4c90-9311-4b497d806466",
   "metadata": {},
   "outputs": [],
   "source": [
    "raw_data = pd.read_csv('/opt/ml/input/data/train/train_ratings.csv', header=0)\n",
    "raw_data, user_activity, item_popularity = filter_triplets(raw_data, min_uc=5, min_sc=0)\n",
    "\n",
    "unique_uid = raw_data['user'].unique()\n",
    "unique_sid = raw_data['item'].unique()\n",
    "\n",
    "profile2id = dict((pid, i) for (i, pid) in enumerate(unique_uid))\n",
    "show2id = dict((sid, i) for (i, sid) in enumerate(unique_sid))"
   ]
  },
  {
   "cell_type": "code",
   "execution_count": 66,
   "id": "1387a607-97a6-4b95-99a1-34697c108718",
   "metadata": {},
   "outputs": [],
   "source": [
    "raw = numerize(raw_data, profile2id, show2id)\n",
    "n_users = len(unique_uid)\n",
    "n_items = len(unique_sid)\n",
    "\n",
    "rows, cols = raw['uid'], raw['sid']\n",
    "data = sparse.csr_matrix((np.ones_like(rows),\n",
    "                            (rows, cols)), dtype='float64',\n",
    "                            shape=(n_users, n_items))"
   ]
  },
  {
   "cell_type": "code",
   "execution_count": 67,
   "id": "8b6b3063-0a42-48c1-b5b2-ae1733fbe22b",
   "metadata": {},
   "outputs": [],
   "source": [
    "user_item_matrix = data.toarray() "
   ]
  },
  {
   "cell_type": "code",
   "execution_count": 74,
   "id": "46743b0a-f5cb-4656-9d6a-091c64342ec0",
   "metadata": {},
   "outputs": [],
   "source": [
    "id2profile= dict(map(reversed,profile2id.items()))\n",
    "id2show= dict(map(reversed,show2id.items())) "
   ]
  },
  {
   "cell_type": "code",
   "execution_count": 239,
   "id": "242e58fd-49fd-4fed-a696-0b7ea252ef9b",
   "metadata": {},
   "outputs": [
    {
     "data": {
      "application/vnd.jupyter.widget-view+json": {
       "model_id": "70eaf96219234198a6bf4393b9a71edb",
       "version_major": 2,
       "version_minor": 0
      },
      "text/plain": [
       "  0%|          | 0/6807 [00:00<?, ?it/s]"
      ]
     },
     "metadata": {},
     "output_type": "display_data"
    },
    {
     "name": "stderr",
     "output_type": "stream",
     "text": [
      "100%|██████████| 31360/31360 [00:29<00:00, 1074.18it/s]\n"
     ]
    }
   ],
   "source": [
    "model = implicit.nearest_neighbours.BM25Recommender(K=10, K1=0.6, B=0.45, num_threads=0)\n",
    "model.fit(data)\n",
    "k = 10\n",
    "users = unique_uid.repeat(k)\n",
    "test_df = pd.DataFrame(users, columns=['user'])\n",
    "test_df['item']=0\n",
    "\n",
    "index = 0\n",
    "for user in tqdm(unique_uid):\n",
    "    uid = profile2id[user]\n",
    "    recommendations = model.recommend(uid, data[uid])[0]\n",
    "    recommendations = np.vectorize(id2show.get)(recommendations)\n",
    "    for i in range(k):\n",
    "        test_df.loc[index + i, 'item'] = recommendations[i]\n",
    "    index += k\n",
    "test_df.to_csv(f'/opt/ml/input/submission/lmf.csv', index=False)"
   ]
  },
  {
   "cell_type": "code",
   "execution_count": null,
   "id": "b1d650ad-4006-444c-915e-a5a41cb0d34c",
   "metadata": {},
   "outputs": [],
   "source": []
  }
 ],
 "metadata": {
  "kernelspec": {
   "display_name": "Python 3 (ipykernel)",
   "language": "python",
   "name": "python3"
  },
  "language_info": {
   "codemirror_mode": {
    "name": "ipython",
    "version": 3
   },
   "file_extension": ".py",
   "mimetype": "text/x-python",
   "name": "python",
   "nbconvert_exporter": "python",
   "pygments_lexer": "ipython3",
   "version": "3.8.5"
  }
 },
 "nbformat": 4,
 "nbformat_minor": 5
}
