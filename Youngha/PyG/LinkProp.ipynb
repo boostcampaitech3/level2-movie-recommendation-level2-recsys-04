{
 "cells": [
  {
   "cell_type": "code",
   "execution_count": null,
   "metadata": {},
   "outputs": [],
   "source": [
    "import numpy as np\n",
    "from scipy import sparse\n",
    "import pandas as pd"
   ]
  },
  {
   "cell_type": "code",
   "execution_count": null,
   "metadata": {},
   "outputs": [],
   "source": [
    "df = pd.read_csv('/opt/ml/input/data/train/train_ratings.csv')\n",
    "df = df[['user', 'item']]\n",
    "df.head()"
   ]
  },
  {
   "cell_type": "code",
   "execution_count": null,
   "metadata": {},
   "outputs": [],
   "source": [
    "unique_uid = pd.unique(df['user'])\n",
    "unique_sid = pd.unique(df['item'])\n",
    "\n",
    "item_mapping = {idx: i for i, idx in enumerate(df.item.unique())}\n",
    "user_mapping = {idx: i for i, idx in enumerate(df.user.unique())}\n",
    "\n",
    "src = [user_mapping[idx] for idx in df['user']]\n",
    "dst = [item_mapping[idx] for idx in df['item']]\n",
    "\n",
    "n_users = df.user.nunique()\n",
    "n_items = df.item.nunique()"
   ]
  },
  {
   "cell_type": "code",
   "execution_count": null,
   "metadata": {},
   "outputs": [],
   "source": [
    "M = sparse.csr_matrix((np.ones_like(src),\n",
    "                    (src, dst)), dtype='float64', shape=(n_users, n_items))"
   ]
  },
  {
   "cell_type": "code",
   "execution_count": null,
   "metadata": {},
   "outputs": [],
   "source": [
    "user_degrees = df.groupby('user').nunique().item.values\n",
    "item_degrees = df.groupby('item').nunique().user.values"
   ]
  },
  {
   "cell_type": "code",
   "execution_count": null,
   "metadata": {},
   "outputs": [],
   "source": [
    "from sklearn.model_selection import GridSearchCV\n",
    "\n",
    "param_grid = {\n",
    "    'alpha': [0.0, 0.17, 0.34, 0.5, 0.67, 0.84, 1.0],\n",
    "    'beta': [0.0, 0.17, 0.34, 0.5, 0.67, 0.84, 1.0],\n",
    "    'gamma': [0.0, 0.17, 0.34, 0.5, 0.67, 0.84, 1.0],\n",
    "    'delta': [0.0, 0.17, 0.34, 0.5, 0.67, 0.84, 1.0],\n",
    "}\n",
    "\n",
    "alpha, beta, gamma, delta = 0.17, 0.34, 0.34, 0.34"
   ]
  },
  {
   "cell_type": "code",
   "execution_count": null,
   "metadata": {},
   "outputs": [],
   "source": [
    "# user_degrees: np array shape (U,) containing user degrees \n",
    "# item_degrees: np array shape (I,) containing item degrees \n",
    "# M: np array shape (U, I) containing interactions \n",
    "# alpha, beta, gamma, delta: \\ourname{} model parameters \n",
    "# exponentiate degrees by model params \n",
    "user_alpha = user_degrees**(-alpha) \n",
    "item_beta = item_degrees**(-beta) \n",
    "user_gamma = user_degrees**(-gamma) \n",
    "item_delta = item_degrees**(-delta) \n",
    "# outer products \n",
    "alpha_beta = user_alpha.reshape((-1, 1)) * item_beta \n",
    "gamma_delta = user_gamma.reshape((-1, 1)) * item_delta "
   ]
  },
  {
   "cell_type": "code",
   "execution_count": null,
   "metadata": {},
   "outputs": [],
   "source": [
    "# hadamard products \n",
    "M_alpha_beta = M.multiply(alpha_beta)\n",
    "M_gamma_delta = M.multiply(gamma_delta)\n",
    "L = M_alpha_beta.dot(M.T).dot(M_gamma_delta)"
   ]
  },
  {
   "cell_type": "code",
   "execution_count": null,
   "metadata": {},
   "outputs": [],
   "source": [
    "item_mapping_reversed = dict(map(reversed, item_mapping.items()))\n",
    "user_mapping_reversed = dict(map(reversed, user_mapping.items()))"
   ]
  },
  {
   "cell_type": "code",
   "execution_count": null,
   "metadata": {},
   "outputs": [],
   "source": [
    "idx = np.argsort(-L.toarray(), axis=1) # user별로 추천할 itemId가 순서대로 담긴 행렬"
   ]
  },
  {
   "cell_type": "code",
   "execution_count": null,
   "metadata": {},
   "outputs": [],
   "source": [
    "from tqdm import tqdm\n",
    "import ast"
   ]
  },
  {
   "cell_type": "code",
   "execution_count": null,
   "metadata": {},
   "outputs": [],
   "source": [
    "pred_dic = {}\n",
    "for i in tqdm(range(len(idx))):\n",
    "    decoded = [item_mapping_reversed[x] for x in idx[i]]\n",
    "    pred_dic[user_mapping_reversed[i]] = decoded\n",
    "\n",
    "# 전체 학습 데이터\n",
    "rating_path = '/opt/ml/input/data/train/train_ratings.csv'\n",
    "train_df = pd.read_csv(rating_path)\n",
    "\n",
    "# 제출용 빈 데이터프레임 생성\n",
    "user_unique = train_df['user'].unique()\n",
    "users = user_unique.repeat(10)\n",
    "test_df = pd.DataFrame(users, columns=['user'])\n",
    "test_df['item']=0\n",
    "\n",
    "# 유저별로 본 영화 저장한 csv 불러오기\n",
    "seen_path = '/opt/ml/input/melon/phil/EDA/seen_movie.csv'\n",
    "seen_df = pd.read_csv(seen_path)\n",
    "\n",
    "# 딕셔너리 형태로 변경\n",
    "seen_dic = seen_df.set_index('user').to_dict()['seen']\n",
    "for key in tqdm(seen_dic.keys()):\n",
    "    seen_dic[key] = ast.literal_eval(seen_dic[key])\n",
    "\n",
    "# 유저별로 인기 영화에서 본 영화 빼고 10개씩 추천\n",
    "index = 0\n",
    "for user in tqdm(user_unique):\n",
    "    temp_items = np.array(list(pred_dic[user]))\n",
    "    seen_list = np.array(seen_dic[user])\n",
    "    temp_items = temp_items[np.isin(temp_items, seen_list) == False]\n",
    "    top_k_items = temp_items[:10]\n",
    "    for i in range(10):\n",
    "        test_df.loc[index + i, 'item'] = top_k_items[i]\n",
    "    index += 10"
   ]
  },
  {
   "cell_type": "code",
   "execution_count": null,
   "metadata": {},
   "outputs": [],
   "source": [
    "from collections import defaultdict\n",
    "\n",
    "diff_path = '/opt/ml/input/melon/phil/EDA/diff_movie4.csv'\n",
    "\n",
    "user_unique = test_df['user'].unique()\n",
    "\n",
    "k_dic = defaultdict(list)\n",
    "for user in tqdm(user_unique):\n",
    "    for item in test_df[test_df['user']==user]['item']:\n",
    "        k_dic[user].append(item)\n",
    "\n",
    "# 유저별 4개 영화가 담긴 데이터 불러오기\n",
    "diff_df = pd.read_csv(diff_path)\n",
    "\n",
    "# 딕셔너리 형태로 변경\n",
    "diff_dic = diff_df.set_index('user').to_dict()['diff']\n",
    "for key in tqdm(diff_dic.keys()):\n",
    "    diff_dic[key] = ast.literal_eval(diff_dic[key])\n",
    "\n",
    "# 유저별 gt와 교집합 딕셔너리\n",
    "inter_dic={}\n",
    "for user in user_unique:\n",
    "    inter_dic[user] = set(k_dic[user]).intersection(set(diff_dic[user]))\n",
    "\n",
    "# 유저별 gt와 같은 개수 딕셔너리\n",
    "correct_dic = {}\n",
    "for user in inter_dic.keys():\n",
    "    correct_dic[user] = len(inter_dic[user])\n",
    "\n",
    "# gt와 같은 개수 총합\n",
    "print(sum(correct_dic.values()))"
   ]
  },
  {
   "cell_type": "code",
   "execution_count": null,
   "metadata": {},
   "outputs": [],
   "source": []
  }
 ],
 "metadata": {
  "interpreter": {
   "hash": "d4d1e4263499bec80672ea0156c357c1ee493ec2b1c70f0acce89fc37c4a6abe"
  },
  "kernelspec": {
   "display_name": "Python 3.8.5 ('base')",
   "language": "python",
   "name": "python3"
  },
  "language_info": {
   "codemirror_mode": {
    "name": "ipython",
    "version": 3
   },
   "file_extension": ".py",
   "mimetype": "text/x-python",
   "name": "python",
   "nbconvert_exporter": "python",
   "pygments_lexer": "ipython3",
   "version": "3.8.5"
  },
  "orig_nbformat": 4
 },
 "nbformat": 4,
 "nbformat_minor": 2
}
