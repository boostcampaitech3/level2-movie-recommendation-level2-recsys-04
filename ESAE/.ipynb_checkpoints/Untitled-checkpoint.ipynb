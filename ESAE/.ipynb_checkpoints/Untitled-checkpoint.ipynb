{
 "cells": [
  {
   "cell_type": "code",
   "execution_count": 2,
   "id": "f13e6466-6e71-4426-9a4c-1503021ed16d",
   "metadata": {},
   "outputs": [],
   "source": [
    "import argparse\n",
    "import time\n",
    "import torch\n",
    "import torch.nn as nn\n",
    "import torch.optim as optim\n",
    "import numpy as np\n",
    "from scipy import sparse\n",
    "from tqdm import tqdm\n",
    "import ast"
   ]
  },
  {
   "cell_type": "code",
   "execution_count": null,
   "id": "71b1447f-06e7-412e-b7e3-84e0b6bef3a8",
   "metadata": {},
   "outputs": [],
   "source": [
    "m = nn.Linear(4, 2)\n",
    "opt = optim.Adam(m.parameters())\n",
    "x = torch.rand((1,4))\n",
    "y = torch.tensor([[0, 1]], dtype=torch.float32)\n",
    "crit = torch.nn.BCEWithLogitsLoss()\n",
    "\n",
    "out = m(x)\n",
    "loss = crit(y, out)\n",
    "loss.backward()\n",
    "\n",
    "for i, param in enumerate(m.parameters()):\n",
    "    if i == 0:\n",
    "        param.grad[:,1:] = torch.zeros_like(param.grad[:,1:])\n",
    "\n",
    "opt.step()\n",
    "print('after optimizer step')\n",
    "for param in m.parameters():\n",
    "    print(param)"
   ]
  }
 ],
 "metadata": {
  "kernelspec": {
   "display_name": "Python 3 (ipykernel)",
   "language": "python",
   "name": "python3"
  },
  "language_info": {
   "codemirror_mode": {
    "name": "ipython",
    "version": 3
   },
   "file_extension": ".py",
   "mimetype": "text/x-python",
   "name": "python",
   "nbconvert_exporter": "python",
   "pygments_lexer": "ipython3",
   "version": "3.8.5"
  }
 },
 "nbformat": 4,
 "nbformat_minor": 5
}
