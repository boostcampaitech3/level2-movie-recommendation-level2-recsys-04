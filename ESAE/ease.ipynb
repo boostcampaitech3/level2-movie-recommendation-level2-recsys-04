{
 "cells": [
  {
   "cell_type": "code",
   "execution_count": 2,
   "id": "f13e6466-6e71-4426-9a4c-1503021ed16d",
   "metadata": {},
   "outputs": [],
   "source": [
    "import argparse\n",
    "import time\n",
    "import torch\n",
    "import torch.nn as nn\n",
    "import torch.optim as optim\n",
    "import numpy as np\n",
    "from scipy import sparse\n",
    "from tqdm import tqdm\n",
    "import ast"
   ]
  },
  {
   "cell_type": "code",
   "execution_count": 9,
   "id": "71b1447f-06e7-412e-b7e3-84e0b6bef3a8",
   "metadata": {},
   "outputs": [
    {
     "name": "stdout",
     "output_type": "stream",
     "text": [
      "tensor([[-0.0000, -0.0000, -0.0000, -0.0000],\n",
      "        [-0.0759, -0.1042, -0.3527, -0.2138]])\n",
      "param\n",
      "tensor([[ 0.0000, -0.0000, -0.0000, -0.0000],\n",
      "        [-0.0759,  0.0000, -0.3527, -0.2138]])\n",
      "after optimizer step\n",
      "Parameter containing:\n",
      "tensor([[ 0.4730, -0.2410, -0.2513,  0.2118],\n",
      "        [ 0.2753,  0.2103,  0.2089,  0.2556]], requires_grad=True)\n",
      "Parameter containing:\n",
      "tensor([0.3012, 0.3216], requires_grad=True)\n"
     ]
    }
   ],
   "source": [
    "m = nn.Linear(4, 2)\n",
    "opt = optim.Adam(m.parameters())\n",
    "x = torch.rand((1,4))\n",
    "y = torch.tensor([[0, 1]], dtype=torch.float32)\n",
    "crit = torch.nn.BCEWithLogitsLoss()\n",
    "\n",
    "out = m(x)\n",
    "loss = crit(y, out)\n",
    "loss.backward()\n",
    "\n",
    "for i, param in enumerate(m.parameters()):\n",
    "    if i == 0:\n",
    "        print(param.grad)\n",
    "        param.grad[range(2),range(2)] = torch.zeros_like(param.grad[range(2),range(2)])\n",
    "        print('param')\n",
    "        print(param.grad)\n",
    "\n",
    "opt.step()\n",
    "print('after optimizer step')\n",
    "for param in m.parameters():\n",
    "    print(param)"
   ]
  },
  {
   "cell_type": "code",
   "execution_count": null,
   "id": "21e27fef-d99e-4ae5-b1b8-4fcd5dda9eb7",
   "metadata": {},
   "outputs": [],
   "source": []
  }
 ],
 "metadata": {
  "kernelspec": {
   "display_name": "Python 3 (ipykernel)",
   "language": "python",
   "name": "python3"
  },
  "language_info": {
   "codemirror_mode": {
    "name": "ipython",
    "version": 3
   },
   "file_extension": ".py",
   "mimetype": "text/x-python",
   "name": "python",
   "nbconvert_exporter": "python",
   "pygments_lexer": "ipython3",
   "version": "3.8.5"
  }
 },
 "nbformat": 4,
 "nbformat_minor": 5
}
