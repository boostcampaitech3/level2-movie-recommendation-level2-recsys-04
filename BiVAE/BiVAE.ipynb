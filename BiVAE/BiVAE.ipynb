{
 "cells": [
  {
   "cell_type": "code",
   "execution_count": 38,
   "id": "8dccb764-3c1d-491e-bfa1-edc5b7f975c0",
   "metadata": {
    "tags": []
   },
   "outputs": [
    {
     "name": "stdout",
     "output_type": "stream",
     "text": [
      "System version: 3.8.5 (default, Sep  4 2020, 07:30:14) \n",
      "[GCC 7.3.0]\n",
      "PyTorch version: 1.10.2+cu102\n",
      "Cornac version: 1.14.2\n"
     ]
    }
   ],
   "source": [
    "import sys\n",
    "import os\n",
    "import torch\n",
    "import cornac\n",
    "import papermill as pm\n",
    "import scrapbook as sb\n",
    "import pandas as pd\n",
    "from recommenders.datasets import movielens\n",
    "from recommenders.datasets.python_splitters import python_random_split\n",
    "from recommenders.evaluation.python_evaluation import map_at_k, ndcg_at_k, precision_at_k, recall_at_k\n",
    "from recommenders.models.cornac.cornac_utils import predict_ranking\n",
    "from recommenders.utils.timer import Timer\n",
    "from recommenders.utils.constants import SEED\n",
    "\n",
    "\n",
    "print(\"System version: {}\".format(sys.version))\n",
    "print(\"PyTorch version: {}\".format(torch.__version__))\n",
    "print(\"Cornac version: {}\".format(cornac.__version__))"
   ]
  },
  {
   "cell_type": "code",
   "execution_count": 79,
   "id": "274e7ee8-f0b4-4d29-bedf-ebfede8c21fd",
   "metadata": {},
   "outputs": [],
   "source": [
    "#SEED\n",
    "SEED=0\n",
    "# top k items to recommend\n",
    "TOP_K = 10\n",
    "\n",
    "# Model parameters\n",
    "LATENT_DIM = 300\n",
    "ENCODER_DIMS = [300]\n",
    "ACT_FUNC = \"tanh\"\n",
    "LIKELIHOOD = \"pois\"\n",
    "NUM_EPOCHS = 100\n",
    "BATCH_SIZE = 512\n",
    "LEARNING_RATE = 0.0005"
   ]
  },
  {
   "cell_type": "code",
   "execution_count": 73,
   "id": "6974410c-5d52-48ac-95bf-8ab6230bf8cf",
   "metadata": {},
   "outputs": [],
   "source": [
    "train = pd.read_csv('/opt/ml/input/data/train/train_ratings.csv')"
   ]
  },
  {
   "cell_type": "code",
   "execution_count": 74,
   "id": "77fed248-b6f4-4c54-a0cc-7a059c1129ad",
   "metadata": {
    "tags": []
   },
   "outputs": [
    {
     "data": {
      "text/html": [
       "<div>\n",
       "<style scoped>\n",
       "    .dataframe tbody tr th:only-of-type {\n",
       "        vertical-align: middle;\n",
       "    }\n",
       "\n",
       "    .dataframe tbody tr th {\n",
       "        vertical-align: top;\n",
       "    }\n",
       "\n",
       "    .dataframe thead th {\n",
       "        text-align: right;\n",
       "    }\n",
       "</style>\n",
       "<table border=\"1\" class=\"dataframe\">\n",
       "  <thead>\n",
       "    <tr style=\"text-align: right;\">\n",
       "      <th></th>\n",
       "      <th>user</th>\n",
       "      <th>item</th>\n",
       "      <th>rating</th>\n",
       "    </tr>\n",
       "  </thead>\n",
       "  <tbody>\n",
       "    <tr>\n",
       "      <th>0</th>\n",
       "      <td>11</td>\n",
       "      <td>4643</td>\n",
       "      <td>1</td>\n",
       "    </tr>\n",
       "    <tr>\n",
       "      <th>1</th>\n",
       "      <td>11</td>\n",
       "      <td>170</td>\n",
       "      <td>1</td>\n",
       "    </tr>\n",
       "    <tr>\n",
       "      <th>2</th>\n",
       "      <td>11</td>\n",
       "      <td>531</td>\n",
       "      <td>1</td>\n",
       "    </tr>\n",
       "    <tr>\n",
       "      <th>3</th>\n",
       "      <td>11</td>\n",
       "      <td>616</td>\n",
       "      <td>1</td>\n",
       "    </tr>\n",
       "    <tr>\n",
       "      <th>4</th>\n",
       "      <td>11</td>\n",
       "      <td>2140</td>\n",
       "      <td>1</td>\n",
       "    </tr>\n",
       "    <tr>\n",
       "      <th>...</th>\n",
       "      <td>...</td>\n",
       "      <td>...</td>\n",
       "      <td>...</td>\n",
       "    </tr>\n",
       "    <tr>\n",
       "      <th>5154466</th>\n",
       "      <td>138493</td>\n",
       "      <td>44022</td>\n",
       "      <td>1</td>\n",
       "    </tr>\n",
       "    <tr>\n",
       "      <th>5154467</th>\n",
       "      <td>138493</td>\n",
       "      <td>4958</td>\n",
       "      <td>1</td>\n",
       "    </tr>\n",
       "    <tr>\n",
       "      <th>5154468</th>\n",
       "      <td>138493</td>\n",
       "      <td>68319</td>\n",
       "      <td>1</td>\n",
       "    </tr>\n",
       "    <tr>\n",
       "      <th>5154469</th>\n",
       "      <td>138493</td>\n",
       "      <td>40819</td>\n",
       "      <td>1</td>\n",
       "    </tr>\n",
       "    <tr>\n",
       "      <th>5154470</th>\n",
       "      <td>138493</td>\n",
       "      <td>27311</td>\n",
       "      <td>1</td>\n",
       "    </tr>\n",
       "  </tbody>\n",
       "</table>\n",
       "<p>5154471 rows × 3 columns</p>\n",
       "</div>"
      ],
      "text/plain": [
       "           user   item  rating\n",
       "0            11   4643       1\n",
       "1            11    170       1\n",
       "2            11    531       1\n",
       "3            11    616       1\n",
       "4            11   2140       1\n",
       "...         ...    ...     ...\n",
       "5154466  138493  44022       1\n",
       "5154467  138493   4958       1\n",
       "5154468  138493  68319       1\n",
       "5154469  138493  40819       1\n",
       "5154470  138493  27311       1\n",
       "\n",
       "[5154471 rows x 3 columns]"
      ]
     },
     "execution_count": 74,
     "metadata": {},
     "output_type": "execute_result"
    }
   ],
   "source": [
    "train['rating'] = 1\n",
    "train.drop(columns='time')"
   ]
  },
  {
   "cell_type": "code",
   "execution_count": 75,
   "id": "4f771b0c-8bad-41da-91d1-edff1c93c6c1",
   "metadata": {},
   "outputs": [],
   "source": [
    "train_set = cornac.data.Dataset.from_uir(train.itertuples(index=False), seed=SEED)"
   ]
  },
  {
   "cell_type": "code",
   "execution_count": 76,
   "id": "58a39d8d-367e-4877-a973-3d035304d5dd",
   "metadata": {},
   "outputs": [
    {
     "name": "stdout",
     "output_type": "stream",
     "text": [
      "Number of users: 31360\n",
      "Number of items: 6807\n"
     ]
    }
   ],
   "source": [
    "print('Number of users: {}'.format(train_set.num_users))\n",
    "print('Number of items: {}'.format(train_set.num_items))"
   ]
  },
  {
   "cell_type": "code",
   "execution_count": null,
   "id": "bf3057b9-4af6-40a9-aae0-b898af9c882f",
   "metadata": {},
   "outputs": [],
   "source": [
    "model = cornac.models.vaecf.recom_vaecf.VAECF(name='VAECF', k=100, autoencoder_structure=[400], act_fn='sigmoid', likelihood='mult', \n",
    "                                              n_epochs=50, batch_size=20000, learning_rate=0.001, beta=1.0, \n",
    "                                              trainable=True, verbose=True, seed=SEED, use_gpu=True)"
   ]
  },
  {
   "cell_type": "code",
   "execution_count": null,
   "id": "db7f3831-0230-4837-a1df-e5e0b2e8ab39",
   "metadata": {
    "tags": []
   },
   "outputs": [],
   "source": [
    "model.fit(train_set)"
   ]
  },
  {
   "cell_type": "code",
   "execution_count": 124,
   "id": "1eb36577-dcf5-4bd1-bba9-a098b945b158",
   "metadata": {},
   "outputs": [
    {
     "name": "stdout",
     "output_type": "stream",
     "text": [
      "Took 251.6347 seconds for prediction.\n"
     ]
    }
   ],
   "source": [
    "with Timer() as t:\n",
    "    all_predictions = predict_ranking(model, train, usercol='user', itemcol='item', remove_seen=True)\n",
    "print(\"Took {} seconds for prediction.\".format(t))"
   ]
  },
  {
   "cell_type": "code",
   "execution_count": 125,
   "id": "ae712dca-380f-4f8c-9e37-a497b138a001",
   "metadata": {},
   "outputs": [],
   "source": [
    "pre_top10 = all_predictions.sort_values(by='prediction',ascending=False).groupby(\"user\").head(10)"
   ]
  },
  {
   "cell_type": "code",
   "execution_count": 126,
   "id": "5483b3c9-1ba4-46ee-941f-e343f24ca6aa",
   "metadata": {},
   "outputs": [],
   "source": [
    "pre_sort_top10 = pre_top10.sort_values(by=['user','prediction'],ascending=[True,False])"
   ]
  },
  {
   "cell_type": "code",
   "execution_count": 127,
   "id": "a9cd291c-1346-4e35-9890-ea9713924457",
   "metadata": {},
   "outputs": [],
   "source": [
    "pre_sort_top10 = pre_sort_top10.reset_index(drop=True)\n",
    "\n",
    "submission = pd.DataFrame()\n",
    "submission['user'] = pre_sort_top10['user']\n",
    "submission['item'] = pre_sort_top10['item']"
   ]
  },
  {
   "cell_type": "code",
   "execution_count": 128,
   "id": "ff8f9aae-7191-41bb-90e5-a1a350c973b7",
   "metadata": {},
   "outputs": [],
   "source": [
    "submission.to_csv('/opt/ml/input/submission/bie.csv', index=False)"
   ]
  },
  {
   "cell_type": "code",
   "execution_count": null,
   "id": "27654f6b-4e89-4126-b80b-8273e8cc9cee",
   "metadata": {},
   "outputs": [],
   "source": []
  }
 ],
 "metadata": {
  "kernelspec": {
   "display_name": "Python 3 (ipykernel)",
   "language": "python",
   "name": "python3"
  },
  "language_info": {
   "codemirror_mode": {
    "name": "ipython",
    "version": 3
   },
   "file_extension": ".py",
   "mimetype": "text/x-python",
   "name": "python",
   "nbconvert_exporter": "python",
   "pygments_lexer": "ipython3",
   "version": "3.8.5"
  }
 },
 "nbformat": 4,
 "nbformat_minor": 5
}
