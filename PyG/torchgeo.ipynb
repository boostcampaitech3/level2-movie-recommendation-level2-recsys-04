{
 "cells": [
  {
   "cell_type": "code",
   "execution_count": 1,
   "metadata": {},
   "outputs": [],
   "source": [
    "from sklearn.cluster import KMeans\n",
    "from sklearn.manifold import TSNE\n",
    "from sklearn.metrics.cluster import (\n",
    "    completeness_score,\n",
    "    homogeneity_score,\n",
    "    v_measure_score,\n",
    ")\n",
    "import pandas as pd\n",
    "import torch\n",
    "import numpy as np\n",
    "from tqdm import tqdm\n",
    "from torch_geometric.data import HeteroData\n",
    "from torch_geometric.data import InMemoryDataset\n",
    "import torch_geometric.transforms as T\n",
    "from torch_geometric.nn import SAGEConv, to_hetero\n",
    "from torch_geometric.utils import negative_sampling\n",
    "import torch.nn.functional as F\n",
    "import torch.nn as nn\n",
    "from tqdm import tqdm\n",
    "from torch_geometric.loader import HGTLoader\n",
    "\n",
    "import os\n",
    "import random"
   ]
  },
  {
   "cell_type": "code",
   "execution_count": 2,
   "metadata": {},
   "outputs": [],
   "source": [
    "class MovieLensDataset(InMemoryDataset):\n",
    "\n",
    "    def __init__(self, root, transform = None, pre_transform = None):\n",
    "        super().__init__(root, transform, pre_transform)\n",
    "        self.data, self.slices = torch.load(self.processed_paths[0])\n",
    "\n",
    "    @property\n",
    "    def raw_file_names(self):\n",
    "        return [f'/opt/ml/input/data/train/train_ratings.csv']\n",
    "\n",
    "    @property\n",
    "    def processed_file_names(self):\n",
    "        return [f'data_0.pt']\n",
    "\n",
    "    def download(self):\n",
    "        pass\n",
    "\n",
    "    def process(self):\n",
    "        data = HeteroData()\n",
    "\n",
    "        df = pd.read_csv(self.raw_file_names[0])\n",
    "\n",
    "        item_mapping = {idx: i for i, idx in enumerate(df.item.unique())}\n",
    "        user_mapping = {idx: i for i, idx in enumerate(df.user.unique())}\n",
    "        data['item'].num_nodes = len(item_mapping)\n",
    "        data['user'].num_nodes = len(user_mapping)\n",
    "\n",
    "        src = [user_mapping[idx] for idx in df['user']]\n",
    "        dst = [item_mapping[idx] for idx in df['item']]\n",
    "        edge_index = torch.tensor([src, dst])\n",
    "\n",
    "        rating = torch.from_numpy(np.ones_like(df.item)).to(torch.long)\n",
    "        data['user', 'rates', 'item'].edge_index = edge_index\n",
    "        data['user', 'rates', 'item'].edge_label = rating\n",
    "\n",
    "        if self.pre_transform is not None:\n",
    "            data = self.pre_transform(data)\n",
    "\n",
    "        torch.save(self.collate([data]), self.processed_paths[0])"
   ]
  },
  {
   "cell_type": "code",
   "execution_count": 3,
   "metadata": {},
   "outputs": [],
   "source": [
    "dataset = MovieLensDataset(root='/opt/ml/input/melon')"
   ]
  },
  {
   "cell_type": "code",
   "execution_count": 4,
   "metadata": {},
   "outputs": [],
   "source": [
    "device = torch.device('cuda' if torch.cuda.is_available() else 'cpu')\n",
    "data = dataset[0].to(device)\n",
    "\n",
    "idx = np.arange(data['user'].num_nodes)\n",
    "random.shuffle(idx)\n",
    "train_idx, val_idx = idx[len(idx)//10:], idx[:len(idx)//10]\n",
    "\n",
    "train_mask = torch.ones(data['user'].num_nodes, dtype=bool)\n",
    "train_mask[train_idx] = True\n",
    "\n",
    "val_mask = torch.zeros(data['user'].num_nodes, dtype=bool)\n",
    "val_mask[val_idx] = True\n",
    "\n",
    "data['user'].train_mask = train_mask\n",
    "data['user'].val_mask = val_mask\n",
    "\n",
    "data['user'].x = torch.ones(data['user'].num_nodes, 1, dtype=torch.float32)\n",
    "del data['user'].num_nodes\n",
    "\n",
    "data['item'].x = torch.ones(data['item'].num_nodes, 1, dtype=torch.float32)\n",
    "del data['item'].num_nodes\n",
    "\n",
    "data = T.ToUndirected()(data)\n",
    "del data['item', 'rev_rates', 'user'].edge_label  # Remove \"reverse\" label."
   ]
  },
  {
   "cell_type": "code",
   "execution_count": 5,
   "metadata": {},
   "outputs": [],
   "source": [
    "os.environ['CUDA_LAUNCH_BLOCKING'] = \"1\"\n",
    "os.environ[\"CUDA_VISIBLE_DEVICES\"] = \"0\""
   ]
  },
  {
   "cell_type": "code",
   "execution_count": 6,
   "metadata": {},
   "outputs": [],
   "source": [
    "train_input_nodes = ('user', data['user'].train_mask)\n",
    "val_input_nodes = ('user', data['user'].val_mask)\n",
    "\n",
    "kwargs = {'batch_size': 1024, 'num_workers': 6, 'persistent_workers': True}\n",
    "\n",
    "train_loader = HGTLoader(data, num_samples=[1024] * 4, shuffle=True, input_nodes = train_input_nodes, **kwargs)\n",
    "val_loader = HGTLoader(data, num_samples=[1024] * 4, input_nodes = train_input_nodes, **kwargs)"
   ]
  },
  {
   "cell_type": "code",
   "execution_count": 7,
   "metadata": {},
   "outputs": [
    {
     "name": "stdout",
     "output_type": "stream",
     "text": [
      "HeteroData(\n",
      "  \u001b[1mitem\u001b[0m={ x=[4096, 1] },\n",
      "  \u001b[1muser\u001b[0m={\n",
      "    train_mask=[4096],\n",
      "    val_mask=[4096],\n",
      "    x=[4096, 1],\n",
      "    batch_size=1024\n",
      "  },\n",
      "  \u001b[1m(user, rates, item)\u001b[0m={\n",
      "    edge_index=[2, 73302],\n",
      "    edge_label=[73302]\n",
      "  },\n",
      "  \u001b[1m(item, rev_rates, user)\u001b[0m={ edge_index=[2, 191435] }\n",
      ")\n"
     ]
    }
   ],
   "source": [
    "batch = next(iter(train_loader))\n",
    "print(batch)"
   ]
  },
  {
   "cell_type": "code",
   "execution_count": null,
   "metadata": {},
   "outputs": [],
   "source": [
    "neg_edge_index = negative_sampling(\n",
    "            edge_index=batch['user', 'item'].edge_index, #positive edges\n",
    "            # num_nodes=len(set(torch.unique(batch['user', 'item'].edge_index[0].detach().cpu()))),  # throws error\n",
    "            num_neg_samples=batch['user', 'item'].edge_index.size()[1],\n",
    "            force_undirected=True\n",
    "        )"
   ]
  },
  {
   "cell_type": "code",
   "execution_count": null,
   "metadata": {},
   "outputs": [],
   "source": [
    "torch.where(batch['user'].train_mask == True)[0].size()[0]"
   ]
  },
  {
   "cell_type": "code",
   "execution_count": 13,
   "metadata": {},
   "outputs": [
    {
     "data": {
      "text/plain": [
       "{('user',\n",
       "  'rates',\n",
       "  'item'): tensor([[2153,  820, 1442,  ..., 2351, 1648, 4053],\n",
       "         [   0,    0,    0,  ..., 4095, 4095, 4095]], device='cuda:0'),\n",
       " ('item',\n",
       "  'rev_rates',\n",
       "  'user'): tensor([[1141,    3,  124,  ..., 1038, 3540,  174],\n",
       "         [   0,    0,    0,  ..., 4095, 4095, 4095]], device='cuda:0')}"
      ]
     },
     "execution_count": 13,
     "metadata": {},
     "output_type": "execute_result"
    }
   ],
   "source": [
    "batch.edge_index_dict"
   ]
  },
  {
   "cell_type": "code",
   "execution_count": null,
   "metadata": {},
   "outputs": [],
   "source": [
    "batch['user', 'item'].edge_index.size()[1]"
   ]
  },
  {
   "cell_type": "code",
   "execution_count": null,
   "metadata": {},
   "outputs": [],
   "source": [
    "neg_edge_index"
   ]
  },
  {
   "cell_type": "code",
   "execution_count": null,
   "metadata": {},
   "outputs": [],
   "source": [
    "len(set(torch.unique(batch['user', 'item'].edge_index[0].detach().cpu())))"
   ]
  },
  {
   "cell_type": "code",
   "execution_count": null,
   "metadata": {},
   "outputs": [],
   "source": [
    "torch.cat((batch['user', 'item'].edge_label, torch.zeros_like(batch['user', 'item'].edge_label)))"
   ]
  },
  {
   "cell_type": "code",
   "execution_count": 9,
   "metadata": {},
   "outputs": [],
   "source": [
    "class GNNEncoder(torch.nn.Module):\n",
    "    def __init__(self, hidden_channels, out_channels):\n",
    "        super().__init__()\n",
    "        self.conv1 = SAGEConv((-1, -1), hidden_channels)\n",
    "        self.conv2 = SAGEConv((-1, -1), out_channels)\n",
    "\n",
    "    def forward(self, x, edge_index):\n",
    "        x = self.conv1(x, edge_index).relu()\n",
    "        x = self.conv2(x, edge_index)\n",
    "        return x\n",
    "\n",
    "\n",
    "class EdgeDecoder(torch.nn.Module):\n",
    "    def __init__(self, hidden_channels):\n",
    "        super().__init__()\n",
    "        self.lin1 = nn.Linear(2 * hidden_channels, hidden_channels)\n",
    "        self.lin2 = nn.Linear(hidden_channels, 1)\n",
    "\n",
    "    def forward(self, z_dict, pos_edge_index, neg_edge_index):\n",
    "        print(pos_edge_index.size())\n",
    "        print(neg_edge_index.size())\n",
    "        edge_index = torch.cat([pos_edge_index, neg_edge_index], dim=-1)\n",
    "        row, col = edge_index\n",
    "        z = torch.cat([z_dict['user'][row], z_dict['item'][col]], dim=-1)\n",
    "\n",
    "        z = self.lin1(z).relu()\n",
    "        z = self.lin2(z)\n",
    "        return z.view(-1,1)\n",
    "\n",
    "\n",
    "class Model(torch.nn.Module):\n",
    "    def __init__(self, hidden_channels):\n",
    "        super().__init__()\n",
    "        self.encoder = GNNEncoder(hidden_channels, hidden_channels)\n",
    "        self.encoder = to_hetero(self.encoder, data.metadata(), aggr='sum')\n",
    "        self.decoder = EdgeDecoder(hidden_channels)\n",
    "\n",
    "    def forward(self, x_dict, edge_index_dict, edge_index, neg_edge_index):\n",
    "        z_dict = self.encoder(x_dict, edge_index_dict)\n",
    "        return self.decoder(z_dict, edge_index, neg_edge_index)\n",
    "\n",
    "\n",
    "model = Model(hidden_channels=32).to(device)\n",
    "\n",
    "# Due to lazy initialization, we need to run a single batch so the number\n",
    "# of parameters can be inferred:\n",
    "with torch.no_grad():\n",
    "    batch = next(iter(train_loader))\n",
    "    batch = batch.to(device)\n",
    "    model.encoder(batch.x_dict, batch.edge_index_dict)\n",
    "\n",
    "optimizer = torch.optim.Adam(model.parameters(), lr=0.01)\n",
    "\n",
    "\n",
    "def train(train_loader):\n",
    "    model.train()\n",
    "    total_loss = 0\n",
    "    for data in train_loader:\n",
    "        neg_edge_index = negative_sampling(\n",
    "            edge_index=data['user', 'item'].edge_index, #positive edges\n",
    "            num_neg_samples=data['user', 'item'].edge_index.size()[1],\n",
    "            force_undirected=True\n",
    "        )\n",
    "\n",
    "        data = data.to(device)\n",
    "        optimizer.zero_grad()\n",
    "        pred = model(data.x_dict, data.edge_index_dict,\n",
    "                    data['user', 'item'].edge_index, neg_edge_index)\n",
    "        print('>>>>>>',batch['user', 'item'].edge_label.size())\n",
    "        print(batch['user', 'item'].edge_index.size())\n",
    "        print(neg_edge_index[0].size())\n",
    "        target = torch.cat((batch['user', 'item'].edge_label, torch.zeros_like(neg_edge_index[0]))).view(-1,1).float()\n",
    "        \n",
    "        loss = F.binary_cross_entropy_with_logits(pred, target) # .sqrt()\n",
    "        # print(f\"pred: {pred}, target: {target}\\nloss: {loss}\")\n",
    "        loss.backward()\n",
    "        optimizer.step()\n",
    "        total_loss += float(loss) * 1024\n",
    "    return float(total_loss)\n",
    "\n",
    "\n",
    "@torch.no_grad()\n",
    "def test(data):\n",
    "    model.eval()\n",
    "    pred = model(data.x_dict, data.edge_index_dict,\n",
    "                 data['user', 'item'].edge_index)\n",
    "    pred = pred.clamp(min=0, max=1)\n",
    "    target = data['user', 'item'].edge_label.view(-1,1).float()\n",
    "    rmse = F.binary_cross_entropy_with_logits(pred, target) # .sqrt()\n",
    "    return float(rmse)"
   ]
  },
  {
   "cell_type": "code",
   "execution_count": 10,
   "metadata": {},
   "outputs": [
    {
     "name": "stdout",
     "output_type": "stream",
     "text": [
      "torch.Size([2, 71760])\n",
      "torch.Size([2, 71760])\n",
      ">>>>>> torch.Size([73673])\n",
      "torch.Size([2, 73673])\n",
      "torch.Size([71760])\n"
     ]
    },
    {
     "ename": "ValueError",
     "evalue": "Target size (torch.Size([145433, 1])) must be the same as input size (torch.Size([143520, 1]))",
     "output_type": "error",
     "traceback": [
      "\u001b[0;31m---------------------------------------------------------------------------\u001b[0m",
      "\u001b[0;31mValueError\u001b[0m                                Traceback (most recent call last)",
      "\u001b[1;32m/opt/ml/input/melon/torchgeo.ipynb Cell 17'\u001b[0m in \u001b[0;36m<cell line: 1>\u001b[0;34m()\u001b[0m\n\u001b[1;32m      <a href='vscode-notebook-cell://ssh-remote%2B101.101.209.176/opt/ml/input/melon/torchgeo.ipynb#ch0000012vscode-remote?line=0'>1</a>\u001b[0m \u001b[39mfor\u001b[39;00m epoch \u001b[39min\u001b[39;00m \u001b[39mrange\u001b[39m(\u001b[39m1\u001b[39m, \u001b[39m21\u001b[39m):\n\u001b[0;32m----> <a href='vscode-notebook-cell://ssh-remote%2B101.101.209.176/opt/ml/input/melon/torchgeo.ipynb#ch0000012vscode-remote?line=1'>2</a>\u001b[0m     loss \u001b[39m=\u001b[39m train(train_loader)\n\u001b[1;32m      <a href='vscode-notebook-cell://ssh-remote%2B101.101.209.176/opt/ml/input/melon/torchgeo.ipynb#ch0000012vscode-remote?line=2'>3</a>\u001b[0m     train_bce \u001b[39m=\u001b[39m \u001b[39m0\u001b[39m\n\u001b[1;32m      <a href='vscode-notebook-cell://ssh-remote%2B101.101.209.176/opt/ml/input/melon/torchgeo.ipynb#ch0000012vscode-remote?line=3'>4</a>\u001b[0m     \u001b[39mfor\u001b[39;00m train_data \u001b[39min\u001b[39;00m train_loader:\n",
      "\u001b[1;32m/opt/ml/input/melon/torchgeo.ipynb Cell 16'\u001b[0m in \u001b[0;36mtrain\u001b[0;34m(train_loader)\u001b[0m\n\u001b[1;32m     <a href='vscode-notebook-cell://ssh-remote%2B101.101.209.176/opt/ml/input/melon/torchgeo.ipynb#ch0000011vscode-remote?line=70'>71</a>\u001b[0m \u001b[39mprint\u001b[39m(neg_edge_index[\u001b[39m0\u001b[39m]\u001b[39m.\u001b[39msize())\n\u001b[1;32m     <a href='vscode-notebook-cell://ssh-remote%2B101.101.209.176/opt/ml/input/melon/torchgeo.ipynb#ch0000011vscode-remote?line=71'>72</a>\u001b[0m target \u001b[39m=\u001b[39m torch\u001b[39m.\u001b[39mcat((batch[\u001b[39m'\u001b[39m\u001b[39muser\u001b[39m\u001b[39m'\u001b[39m, \u001b[39m'\u001b[39m\u001b[39mitem\u001b[39m\u001b[39m'\u001b[39m]\u001b[39m.\u001b[39medge_label, torch\u001b[39m.\u001b[39mzeros_like(neg_edge_index[\u001b[39m0\u001b[39m])))\u001b[39m.\u001b[39mview(\u001b[39m-\u001b[39m\u001b[39m1\u001b[39m,\u001b[39m1\u001b[39m)\u001b[39m.\u001b[39mfloat()\n\u001b[0;32m---> <a href='vscode-notebook-cell://ssh-remote%2B101.101.209.176/opt/ml/input/melon/torchgeo.ipynb#ch0000011vscode-remote?line=73'>74</a>\u001b[0m loss \u001b[39m=\u001b[39m F\u001b[39m.\u001b[39;49mbinary_cross_entropy_with_logits(pred, target) \u001b[39m# .sqrt()\u001b[39;00m\n\u001b[1;32m     <a href='vscode-notebook-cell://ssh-remote%2B101.101.209.176/opt/ml/input/melon/torchgeo.ipynb#ch0000011vscode-remote?line=74'>75</a>\u001b[0m \u001b[39m# print(f\"pred: {pred}, target: {target}\\nloss: {loss}\")\u001b[39;00m\n\u001b[1;32m     <a href='vscode-notebook-cell://ssh-remote%2B101.101.209.176/opt/ml/input/melon/torchgeo.ipynb#ch0000011vscode-remote?line=75'>76</a>\u001b[0m loss\u001b[39m.\u001b[39mbackward()\n",
      "File \u001b[0;32m/opt/conda/lib/python3.8/site-packages/torch/nn/functional.py:2980\u001b[0m, in \u001b[0;36mbinary_cross_entropy_with_logits\u001b[0;34m(input, target, weight, size_average, reduce, reduction, pos_weight)\u001b[0m\n\u001b[1;32m   <a href='file:///opt/conda/lib/python3.8/site-packages/torch/nn/functional.py?line=2976'>2977</a>\u001b[0m     reduction_enum \u001b[39m=\u001b[39m _Reduction\u001b[39m.\u001b[39mget_enum(reduction)\n\u001b[1;32m   <a href='file:///opt/conda/lib/python3.8/site-packages/torch/nn/functional.py?line=2978'>2979</a>\u001b[0m \u001b[39mif\u001b[39;00m \u001b[39mnot\u001b[39;00m (target\u001b[39m.\u001b[39msize() \u001b[39m==\u001b[39m \u001b[39minput\u001b[39m\u001b[39m.\u001b[39msize()):\n\u001b[0;32m-> <a href='file:///opt/conda/lib/python3.8/site-packages/torch/nn/functional.py?line=2979'>2980</a>\u001b[0m     \u001b[39mraise\u001b[39;00m \u001b[39mValueError\u001b[39;00m(\u001b[39m\"\u001b[39m\u001b[39mTarget size (\u001b[39m\u001b[39m{}\u001b[39;00m\u001b[39m) must be the same as input size (\u001b[39m\u001b[39m{}\u001b[39;00m\u001b[39m)\u001b[39m\u001b[39m\"\u001b[39m\u001b[39m.\u001b[39mformat(target\u001b[39m.\u001b[39msize(), \u001b[39minput\u001b[39m\u001b[39m.\u001b[39msize()))\n\u001b[1;32m   <a href='file:///opt/conda/lib/python3.8/site-packages/torch/nn/functional.py?line=2981'>2982</a>\u001b[0m \u001b[39mreturn\u001b[39;00m torch\u001b[39m.\u001b[39mbinary_cross_entropy_with_logits(\u001b[39minput\u001b[39m, target, weight, pos_weight, reduction_enum)\n",
      "\u001b[0;31mValueError\u001b[0m: Target size (torch.Size([145433, 1])) must be the same as input size (torch.Size([143520, 1]))"
     ]
    }
   ],
   "source": [
    "for epoch in range(1, 21):\n",
    "    loss = train(train_loader)\n",
    "    train_bce = 0\n",
    "    for train_data in train_loader:\n",
    "        train_data = train_data.to(device)\n",
    "        tmp_train_bce = test(train_data)\n",
    "        train_bce += tmp_train_bce\n",
    "    val_bce = 0\n",
    "    for val_data in val_loader:\n",
    "        val_data = val_data.to(device)\n",
    "        tmp_val_bce = test(val_data)\n",
    "        val_bce += tmp_val_bce\n",
    "    print(f'Epoch: {epoch:03d}, Loss: {loss:.4f}, Train: {train_bce:.4f}, '\n",
    "          f'Val: {val_bce:.4f}')"
   ]
  },
  {
   "cell_type": "markdown",
   "metadata": {},
   "source": [
    "### TO ARGVA!"
   ]
  },
  {
   "cell_type": "code",
   "execution_count": null,
   "metadata": {},
   "outputs": [],
   "source": [
    "from torch.nn import Linear\n",
    "import torch\n",
    "from torch_geometric.nn import ARGVA, GCNConv, HeteroConv"
   ]
  },
  {
   "cell_type": "code",
   "execution_count": null,
   "metadata": {},
   "outputs": [],
   "source": [
    "class Encoder(torch.nn.Module):\n",
    "    def __init__(self, in_channels, hidden_channels, out_channels):\n",
    "        super().__init__()\n",
    "        self.conv1 = HeteroConv({\n",
    "                        ('user', 'rates', 'movie'): GCNConv(in_channels, hidden_channels),\n",
    "                    }, aggr='sum')\n",
    "        self.conv_mu = HeteroConv({\n",
    "                        ('user', 'rates', 'movie'): GCNConv(hidden_channels, out_channels),\n",
    "                    }, aggr='sum')\n",
    "        self.conv_logstd = HeteroConv({\n",
    "                        ('user', 'rates', 'movie'): GCNConv(hidden_channels, out_channels),\n",
    "                    }, aggr='sum')\n",
    "\n",
    "    def forward(self, x, edge_index):\n",
    "        x = self.conv1(x, edge_index).relu()\n",
    "        return self.conv_mu(x, edge_index), self.conv_logstd(x, edge_index)\n",
    "\n",
    "\n",
    "class Discriminator(torch.nn.Module):\n",
    "    def __init__(self, in_channels, hidden_channels, out_channels):\n",
    "        super().__init__()\n",
    "        self.lin1 = Linear(in_channels, hidden_channels)\n",
    "        self.lin2 = Linear(hidden_channels, hidden_channels)\n",
    "        self.lin3 = Linear(hidden_channels, out_channels)\n",
    "\n",
    "    def forward(self, x):\n",
    "        x = self.lin1(x).relu()\n",
    "        x = self.lin2(x).relu()\n",
    "        return self.lin3(x)\n",
    "\n",
    "\n",
    "encoder = Encoder(in_channels=1, hidden_channels=32, out_channels=32)\n",
    "discriminator = Discriminator(in_channels=32, hidden_channels=64,\n",
    "                              out_channels=32)\n",
    "model = ARGVA(encoder, discriminator).to(device)\n",
    "\n",
    "encoder_optimizer = torch.optim.Adam(encoder.parameters(), lr=0.005)\n",
    "discriminator_optimizer = torch.optim.Adam(discriminator.parameters(),\n",
    "                                           lr=0.001)"
   ]
  },
  {
   "cell_type": "code",
   "execution_count": null,
   "metadata": {},
   "outputs": [],
   "source": [
    "def train():\n",
    "    model.train()\n",
    "    encoder_optimizer.zero_grad()\n",
    "    z = model.encode(train_data.x_dict, train_data.edge_index_dict)\n",
    "\n",
    "    # We optimize the discriminator more frequently than the encoder.\n",
    "    for i in range(5):\n",
    "        discriminator_optimizer.zero_grad()\n",
    "        discriminator_loss = model.discriminator_loss(z)\n",
    "        discriminator_loss.backward()\n",
    "        discriminator_optimizer.step()\n",
    "\n",
    "    loss = model.recon_loss(z, train_data.pos_edge_label_index_dict)\n",
    "    loss = loss + model.reg_loss(z)\n",
    "    loss = loss + (1 / train_data.num_nodes) * model.kl_loss()\n",
    "    loss.backward()\n",
    "    encoder_optimizer.step()\n",
    "    return float(loss)\n",
    "\n",
    "\n",
    "@torch.no_grad()\n",
    "def test(data):\n",
    "    model.eval()\n",
    "    z = model.encode(data.x_dict, data.edge_index_dict)\n",
    "\n",
    "    # Cluster embedded values using k-means.\n",
    "    kmeans_input = z.cpu().numpy()\n",
    "    kmeans = KMeans(n_clusters=7, random_state=0).fit(kmeans_input)\n",
    "    pred = kmeans.predict(kmeans_input)\n",
    "\n",
    "    labels = data.y.cpu().numpy()\n",
    "    completeness = completeness_score(labels, pred)\n",
    "    hm = homogeneity_score(labels, pred)\n",
    "    nmi = v_measure_score(labels, pred)\n",
    "\n",
    "    auc, ap = model.test(z, data.pos_edge_label_index,\n",
    "                         data.neg_edge_label_index)\n",
    "\n",
    "    return auc, ap, completeness, hm, nmi"
   ]
  },
  {
   "cell_type": "code",
   "execution_count": null,
   "metadata": {},
   "outputs": [],
   "source": [
    "train_data.x_dict['user']"
   ]
  },
  {
   "cell_type": "code",
   "execution_count": null,
   "metadata": {},
   "outputs": [],
   "source": [
    "for epoch in range(1, 11):\n",
    "    loss = train()\n",
    "    auc, ap, completeness, hm, nmi = test(test_data)\n",
    "    print((f'Epoch: {epoch:03d}, Loss: {loss:.3f}, AUC: {auc:.3f}, '\n",
    "           f'AP: {ap:.3f}, Completeness: {completeness:.3f}, '\n",
    "           f'Homogeneity: {hm:.3f}, NMI: {nmi:.3f}'))"
   ]
  }
 ],
 "metadata": {
  "interpreter": {
   "hash": "d4d1e4263499bec80672ea0156c357c1ee493ec2b1c70f0acce89fc37c4a6abe"
  },
  "kernelspec": {
   "display_name": "Python 3.8.5 ('base')",
   "language": "python",
   "name": "python3"
  },
  "language_info": {
   "codemirror_mode": {
    "name": "ipython",
    "version": 3
   },
   "file_extension": ".py",
   "mimetype": "text/x-python",
   "name": "python",
   "nbconvert_exporter": "python",
   "pygments_lexer": "ipython3",
   "version": "3.8.5"
  },
  "orig_nbformat": 4
 },
 "nbformat": 4,
 "nbformat_minor": 2
}
