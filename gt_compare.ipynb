{
 "cells": [
  {
   "cell_type": "markdown",
   "metadata": {},
   "source": [
    "##### train_df에 없는 gt 아이템들과 비교"
   ]
  },
  {
   "cell_type": "code",
   "execution_count": 36,
   "metadata": {},
   "outputs": [],
   "source": [
    "from collections import defaultdict\n",
    "import pandas as pd\n",
    "from tqdm import tqdm\n",
    "import ast\n",
    "import numpy as np\n",
    "from recommenders.utils.timer import Timer"
   ]
  },
  {
   "cell_type": "code",
   "execution_count": 41,
   "metadata": {},
   "outputs": [
    {
     "name": "stderr",
     "output_type": "stream",
     "text": [
      "100%|██████████| 31360/31360 [00:17<00:00, 1743.34it/s]\n",
      "100%|██████████| 31360/31360 [00:00<00:00, 56927.40it/s]"
     ]
    },
    {
     "name": "stdout",
     "output_type": "stream",
     "text": [
      "15442\n",
      "0.12310267857142858\n"
     ]
    },
    {
     "name": "stderr",
     "output_type": "stream",
     "text": [
      "\n"
     ]
    }
   ],
   "source": [
    "# 제출 df로 유저별 추천 목록이 담긴 딕셔너리 생성\n",
    "# 제출 파일 불러오기\n",
    "\n",
    "submission_path = '/opt/ml/input/submission/bie.csv'\n",
    "diff_path = '/opt/ml/input/EDA/diff_movie4.csv'\n",
    "\n",
    "test_df = pd.read_csv(submission_path)\n",
    "user_unique = test_df['user'].unique()\n",
    "\n",
    "k_dic = defaultdict(list)\n",
    "for user in tqdm(user_unique):\n",
    "    for item in test_df[test_df['user']==user]['item']:\n",
    "        k_dic[user].append(item)\n",
    "\n",
    "# 유저별 4개 영화가 담긴 데이터 불러오기\n",
    "diff_df = pd.read_csv(diff_path)\n",
    "\n",
    "# 딕셔너리 형태로 변경\n",
    "diff_dic = diff_df.set_index('user').to_dict()['diff']\n",
    "for key in tqdm(diff_dic.keys()):\n",
    "    diff_dic[key] = ast.literal_eval(diff_dic[key])\n",
    "\n",
    "# 유저별 gt와 교집합 딕셔너리\n",
    "inter_dic={}\n",
    "for user in user_unique:\n",
    "    inter_dic[user] = set(k_dic[user]).intersection(set(diff_dic[user]))\n",
    "\n",
    "# 유저별 gt와 같은 개수 딕셔너리\n",
    "correct_dic = {}\n",
    "for user in inter_dic.keys():\n",
    "    correct_dic[user] = len(inter_dic[user])\n",
    "\n",
    "# gt와 같은 개수 총합\n",
    "print(sum(correct_dic.values()))\n",
    "print(sum(correct_dic.values())/(31360*4))"
   ]
  },
  {
   "cell_type": "code",
   "execution_count": 7,
   "metadata": {},
   "outputs": [],
   "source": [
    "s = set()\n",
    "for i in inter_dic.values():\n",
    "    s = s.union(i)"
   ]
  },
  {
   "cell_type": "code",
   "execution_count": 4,
   "metadata": {},
   "outputs": [
    {
     "data": {
      "text/plain": [
       "1373"
      ]
     },
     "execution_count": 4,
     "metadata": {},
     "output_type": "execute_result"
    }
   ],
   "source": [
    "len(s)"
   ]
  },
  {
   "cell_type": "code",
   "execution_count": 5,
   "metadata": {},
   "outputs": [],
   "source": [
    "s2 = set()\n",
    "for i in diff_dic.values():\n",
    "    s2 = s2.union(set(i))"
   ]
  },
  {
   "cell_type": "code",
   "execution_count": 6,
   "metadata": {},
   "outputs": [
    {
     "data": {
      "text/plain": [
       "6293"
      ]
     },
     "execution_count": 6,
     "metadata": {},
     "output_type": "execute_result"
    }
   ],
   "source": [
    "len(s2)"
   ]
  },
  {
   "cell_type": "code",
   "execution_count": 28,
   "metadata": {},
   "outputs": [],
   "source": [
    "!sh ../rm.sh"
   ]
  },
  {
   "cell_type": "code",
   "execution_count": 19,
   "metadata": {},
   "outputs": [],
   "source": [
    "with open(\"/opt/ml/level2-movie-recommendation-level2-recsys-04-sunbi/RecVAE/ensemble/ensemble.npy\", 'rb') as f:\n",
    "    ensemble = np.load(f)"
   ]
  },
  {
   "cell_type": "code",
   "execution_count": 20,
   "metadata": {},
   "outputs": [
    {
     "data": {
      "text/plain": [
       "(31360, 6807)"
      ]
     },
     "execution_count": 20,
     "metadata": {},
     "output_type": "execute_result"
    }
   ],
   "source": [
    "ensemble.shape"
   ]
  },
  {
   "cell_type": "code",
   "execution_count": 13,
   "metadata": {},
   "outputs": [
    {
     "data": {
      "text/plain": [
       "array([[0, 1],\n",
       "       [1, 0]])"
      ]
     },
     "execution_count": 13,
     "metadata": {},
     "output_type": "execute_result"
    }
   ],
   "source": [
    "test = np.array([[2,1],[3,0]])\n",
    "np.argsort(test, axis=0)"
   ]
  },
  {
   "cell_type": "code",
   "execution_count": null,
   "metadata": {},
   "outputs": [],
   "source": []
  }
 ],
 "metadata": {
  "interpreter": {
   "hash": "bfa81b72877e17ffd13af81ffddaaec7ef27eaa133a544c733d5043efbc1f4c7"
  },
  "kernelspec": {
   "display_name": "Python 3 (ipykernel)",
   "language": "python",
   "name": "python3"
  },
  "language_info": {
   "codemirror_mode": {
    "name": "ipython",
    "version": 3
   },
   "file_extension": ".py",
   "mimetype": "text/x-python",
   "name": "python",
   "nbconvert_exporter": "python",
   "pygments_lexer": "ipython3",
   "version": "3.8.5"
  }
 },
 "nbformat": 4,
 "nbformat_minor": 4
}
