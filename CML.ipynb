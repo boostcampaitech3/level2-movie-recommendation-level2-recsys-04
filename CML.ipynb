{
 "cells": [
  {
   "cell_type": "code",
   "execution_count": 9,
   "metadata": {},
   "outputs": [],
   "source": [
    "import sys\n",
    "sys.path.append(\"../../\")\n",
    "\n",
    "from itertools import product\n",
    "\n",
    "from PyTorchCML import losses, models, samplers, regularizers, evaluators, trainers\n",
    "import torch\n",
    "import random as rd\n",
    "from torch import nn, optim\n",
    "import torch.nn.functional as F\n",
    "import numpy as np\n",
    "import pandas as pd\n",
    "from sklearn.model_selection import train_test_split\n",
    "from sklearn.decomposition import TruncatedSVD\n",
    "from scipy.sparse import csr_matrix\n",
    "from tqdm import tqdm"
   ]
  },
  {
   "cell_type": "code",
   "execution_count": 2,
   "metadata": {},
   "outputs": [],
   "source": [
    "def svd_init(X, dim):\n",
    "    \"\"\"\n",
    "    Args :\n",
    "        X : csr_matrix which element is 0 or 1.\n",
    "        dim : number of dimention\n",
    "    \"\"\"\n",
    "    svd = TruncatedSVD(n_components=10)\n",
    "    U_ = svd.fit_transform(X)\n",
    "    V_ = svd.components_\n",
    "\n",
    "    s = (U_.sum(axis=1).mean() + V_.sum(axis=0).mean()) / 2\n",
    "    U = 2 ** 0.5 * U_ - (1 / n_dim) ** 0.5 * s * np.ones_like(U_)\n",
    "    V = 2 ** 0.5 * V_ + (1 / n_dim) ** 0.5 / s * np.ones_like(V_)\n",
    "    ub = -(2 / n_dim) ** 0.5 * U_.sum(axis=1) / s\n",
    "    vb = (2 / n_dim) ** 0.5 * V_.sum(axis=0) * s\n",
    "\n",
    "    return U, V, ub, vb"
   ]
  },
  {
   "cell_type": "code",
   "execution_count": 3,
   "metadata": {},
   "outputs": [],
   "source": [
    "# download movielens dataset\n",
    "movielens = pd.read_csv(\n",
    "  '/opt/ml/input/data/train/train_ratings.csv', \n",
    "    sep=','\n",
    ")"
   ]
  },
  {
   "cell_type": "code",
   "execution_count": 4,
   "metadata": {},
   "outputs": [],
   "source": [
    "user_mapping = {idx: i for i, idx in enumerate(movielens.user.unique())}\n",
    "item_mapping = {idx: i for i, idx in enumerate(movielens.item.unique())}\n",
    "\n",
    "item_id = [item_mapping[idx] for idx in movielens['item']]\n",
    "user_id = [user_mapping[idx] for idx in movielens['user']]\n",
    "\n",
    "ml = pd.DataFrame({'user_id': user_id, 'item_id': item_id})\n",
    "\n",
    "train, test = train_test_split(ml)"
   ]
  },
  {
   "cell_type": "code",
   "execution_count": 5,
   "metadata": {},
   "outputs": [
    {
     "data": {
      "text/plain": [
       "user_id    31360\n",
       "item_id     6807\n",
       "dtype: int64"
      ]
     },
     "execution_count": 5,
     "metadata": {},
     "output_type": "execute_result"
    }
   ],
   "source": [
    "ml.nunique()"
   ]
  },
  {
   "cell_type": "code",
   "execution_count": 6,
   "metadata": {},
   "outputs": [
    {
     "data": {
      "text/html": [
       "<div>\n",
       "<style scoped>\n",
       "    .dataframe tbody tr th:only-of-type {\n",
       "        vertical-align: middle;\n",
       "    }\n",
       "\n",
       "    .dataframe tbody tr th {\n",
       "        vertical-align: top;\n",
       "    }\n",
       "\n",
       "    .dataframe thead th {\n",
       "        text-align: right;\n",
       "    }\n",
       "</style>\n",
       "<table border=\"1\" class=\"dataframe\">\n",
       "  <thead>\n",
       "    <tr style=\"text-align: right;\">\n",
       "      <th></th>\n",
       "      <th>user_id</th>\n",
       "      <th>item_id</th>\n",
       "    </tr>\n",
       "  </thead>\n",
       "  <tbody>\n",
       "    <tr>\n",
       "      <th>4919800</th>\n",
       "      <td>29940</td>\n",
       "      <td>3606</td>\n",
       "    </tr>\n",
       "    <tr>\n",
       "      <th>1799008</th>\n",
       "      <td>10880</td>\n",
       "      <td>373</td>\n",
       "    </tr>\n",
       "    <tr>\n",
       "      <th>1361409</th>\n",
       "      <td>8197</td>\n",
       "      <td>2555</td>\n",
       "    </tr>\n",
       "    <tr>\n",
       "      <th>3797583</th>\n",
       "      <td>23097</td>\n",
       "      <td>1948</td>\n",
       "    </tr>\n",
       "    <tr>\n",
       "      <th>765926</th>\n",
       "      <td>4630</td>\n",
       "      <td>2974</td>\n",
       "    </tr>\n",
       "  </tbody>\n",
       "</table>\n",
       "</div>"
      ],
      "text/plain": [
       "         user_id  item_id\n",
       "4919800    29940     3606\n",
       "1799008    10880      373\n",
       "1361409     8197     2555\n",
       "3797583    23097     1948\n",
       "765926      4630     2974"
      ]
     },
     "execution_count": 6,
     "metadata": {},
     "output_type": "execute_result"
    }
   ],
   "source": [
    "test.head()"
   ]
  },
  {
   "cell_type": "code",
   "execution_count": 7,
   "metadata": {},
   "outputs": [],
   "source": [
    "test_items={}\n",
    "for i, group in test.groupby('user_id'):\n",
    "    test_items[i] = group.item_id.values"
   ]
  },
  {
   "cell_type": "code",
   "execution_count": 12,
   "metadata": {},
   "outputs": [
    {
     "name": "stderr",
     "output_type": "stream",
     "text": [
      "100%|██████████| 31360/31360 [00:25<00:00, 1211.32it/s]\n"
     ]
    }
   ],
   "source": [
    "neg_pools = {}\n",
    "\n",
    "for u in tqdm(test_items.keys()):\n",
    "    neg_items = list(set(range(6807)) - set(test_items[u]))\n",
    "    pools = [rd.choice(neg_items) for _ in range(600)]\n",
    "    neg_pools[u] = pools"
   ]
  },
  {
   "cell_type": "code",
   "execution_count": 13,
   "metadata": {},
   "outputs": [
    {
     "name": "stderr",
     "output_type": "stream",
     "text": [
      "100%|██████████| 31360/31360 [1:10:30<00:00,  7.41it/s]\n"
     ]
    }
   ],
   "source": [
    "for k, v in tqdm(neg_pools.items()):\n",
    "    df_neg = pd.DataFrame({'user_id': np.repeat(k,600), 'item_id': v})\n",
    "    test = pd.concat([test, df_neg])\n",
    "\n",
    "test.to_csv('test.csv')"
   ]
  },
  {
   "cell_type": "code",
   "execution_count": 20,
   "metadata": {},
   "outputs": [],
   "source": [
    "rating = np.ones(len(test))\n",
    "rating[test.user_id.nunique():] = 0\n",
    "test[\"rating\"] = rating"
   ]
  },
  {
   "cell_type": "code",
   "execution_count": 22,
   "metadata": {},
   "outputs": [],
   "source": [
    "# numpy array\n",
    "train_set = train.values\n",
    "test_set = test[[\"user_id\", \"item_id\", \"rating\"]].values\n",
    "\n",
    "# to torch.Tensor\n",
    "device = torch.device(\"cpu\")\n",
    "train_set = torch.LongTensor(train_set).to(device)\n",
    "test_set = torch.LongTensor(test_set).to(device)"
   ]
  },
  {
   "cell_type": "code",
   "execution_count": 23,
   "metadata": {},
   "outputs": [],
   "source": [
    "n_dim = 10\n",
    "n_user = ml.user_id.nunique()\n",
    "n_item = ml.item_id.nunique()\n",
    "X = csr_matrix(\n",
    "    (np.ones(train_set.shape[0]), (train_set[:,0], train_set[:,1])),\n",
    "    shape=[n_user, n_item]\n",
    ")\n",
    "U, V, ub, vb = svd_init(X, n_dim)"
   ]
  },
  {
   "cell_type": "markdown",
   "metadata": {},
   "source": [
    "# Naive MF"
   ]
  },
  {
   "cell_type": "code",
   "execution_count": 24,
   "metadata": {},
   "outputs": [],
   "source": [
    "device = torch.device(\"cpu\")\n",
    "lr = 1e-3\n",
    "n_dim = 10\n",
    "model = models.LogitMatrixFactorization(\n",
    "    n_user, n_item, n_dim, max_norm=5,max_bias=3,\n",
    "    user_embedding_init = torch.Tensor(U), \n",
    "    item_embedding_init = torch.Tensor(V.T),\n",
    "    user_bias_init = torch.Tensor(ub), \n",
    "    item_bias_init = torch.Tensor(vb)\n",
    ").to(device)\n",
    "\n",
    "optimizer = optim.Adam(model.parameters(), lr=lr)\n",
    "criterion = losses.LogitPairwiseLoss().to(device)\n",
    "sampler = samplers.BaseSampler(train_set, n_user, n_item, device=device,n_neg_samples=5, batch_size=1024)\n",
    "\n",
    "score_function_dict = {\n",
    "    \"nDCG\" : evaluators.ndcg,\n",
    "    \"MAP\" : evaluators.average_precision,\n",
    "    \"Recall\": evaluators.recall\n",
    "}\n",
    "evaluator = evaluators.UserwiseEvaluator(torch.LongTensor(test_set).to(device), score_function_dict, ks=[3])\n",
    "trainer = trainers.BaseTrainer(model, optimizer, criterion, sampler)\n"
   ]
  },
  {
   "cell_type": "code",
   "execution_count": 25,
   "metadata": {},
   "outputs": [
    {
     "name": "stderr",
     "output_type": "stream",
     "text": [
      "100%|██████████| 31360/31360 [13:22<00:00, 39.06it/s]\n",
      "epoch1 avg_loss:701.191: 100%|██████████| 50/50 [00:03<00:00, 15.99it/s]\n",
      "epoch2 avg_loss:602.854: 100%|██████████| 50/50 [00:02<00:00, 16.96it/s]\n",
      "epoch3 avg_loss:525.489: 100%|██████████| 50/50 [00:02<00:00, 19.14it/s]\n",
      "epoch4 avg_loss:451.091: 100%|██████████| 50/50 [00:02<00:00, 20.90it/s]\n",
      "epoch5 avg_loss:395.838: 100%|██████████| 50/50 [00:02<00:00, 21.05it/s]\n",
      "100%|██████████| 31360/31360 [13:13<00:00, 39.54it/s]\n",
      "epoch6 avg_loss:341.012: 100%|██████████| 50/50 [00:02<00:00, 18.83it/s]\n",
      "epoch7 avg_loss:303.431: 100%|██████████| 50/50 [00:02<00:00, 21.22it/s]\n",
      "epoch8 avg_loss:263.125: 100%|██████████| 50/50 [00:02<00:00, 17.86it/s]\n",
      "epoch9 avg_loss:233.981: 100%|██████████| 50/50 [00:02<00:00, 17.28it/s]\n",
      "epoch10 avg_loss:202.205: 100%|██████████| 50/50 [00:02<00:00, 20.27it/s]\n",
      "100%|██████████| 31360/31360 [13:09<00:00, 39.71it/s]\n",
      "epoch11 avg_loss:180.765: 100%|██████████| 50/50 [00:03<00:00, 16.10it/s]\n",
      "epoch12 avg_loss:161.906: 100%|██████████| 50/50 [00:03<00:00, 15.52it/s]\n",
      "epoch13 avg_loss:145.280: 100%|██████████| 50/50 [00:02<00:00, 17.70it/s]\n",
      "epoch14 avg_loss:131.476: 100%|██████████| 50/50 [00:02<00:00, 18.52it/s]\n",
      "epoch15 avg_loss:119.903: 100%|██████████| 50/50 [00:02<00:00, 17.51it/s]\n",
      "100%|██████████| 31360/31360 [13:12<00:00, 39.56it/s]\n"
     ]
    }
   ],
   "source": [
    "trainer.fit(n_batch=50, n_epoch=15, valid_evaluator = evaluator, valid_per_epoch=5)"
   ]
  },
  {
   "cell_type": "code",
   "execution_count": 26,
   "metadata": {},
   "outputs": [
    {
     "data": {
      "text/html": [
       "<div>\n",
       "<style scoped>\n",
       "    .dataframe tbody tr th:only-of-type {\n",
       "        vertical-align: middle;\n",
       "    }\n",
       "\n",
       "    .dataframe tbody tr th {\n",
       "        vertical-align: top;\n",
       "    }\n",
       "\n",
       "    .dataframe thead th {\n",
       "        text-align: right;\n",
       "    }\n",
       "</style>\n",
       "<table border=\"1\" class=\"dataframe\">\n",
       "  <thead>\n",
       "    <tr style=\"text-align: right;\">\n",
       "      <th></th>\n",
       "      <th>nDCG@3</th>\n",
       "      <th>MAP@3</th>\n",
       "      <th>Recall@3</th>\n",
       "      <th>epoch</th>\n",
       "      <th>loss</th>\n",
       "    </tr>\n",
       "  </thead>\n",
       "  <tbody>\n",
       "    <tr>\n",
       "      <th>0</th>\n",
       "      <td>0.999437</td>\n",
       "      <td>0.999697</td>\n",
       "      <td>0.004798</td>\n",
       "      <td>0</td>\n",
       "      <td>NaN</td>\n",
       "    </tr>\n",
       "    <tr>\n",
       "      <th>0</th>\n",
       "      <td>0.999398</td>\n",
       "      <td>0.999588</td>\n",
       "      <td>0.004797</td>\n",
       "      <td>5</td>\n",
       "      <td>395.838439</td>\n",
       "    </tr>\n",
       "    <tr>\n",
       "      <th>0</th>\n",
       "      <td>0.999388</td>\n",
       "      <td>0.999639</td>\n",
       "      <td>0.004790</td>\n",
       "      <td>10</td>\n",
       "      <td>202.204721</td>\n",
       "    </tr>\n",
       "    <tr>\n",
       "      <th>0</th>\n",
       "      <td>0.999424</td>\n",
       "      <td>0.999684</td>\n",
       "      <td>0.004786</td>\n",
       "      <td>15</td>\n",
       "      <td>119.902524</td>\n",
       "    </tr>\n",
       "  </tbody>\n",
       "</table>\n",
       "</div>"
      ],
      "text/plain": [
       "     nDCG@3     MAP@3  Recall@3  epoch        loss\n",
       "0  0.999437  0.999697  0.004798      0         NaN\n",
       "0  0.999398  0.999588  0.004797      5  395.838439\n",
       "0  0.999388  0.999639  0.004790     10  202.204721\n",
       "0  0.999424  0.999684  0.004786     15  119.902524"
      ]
     },
     "execution_count": 26,
     "metadata": {},
     "output_type": "execute_result"
    }
   ],
   "source": [
    "trainer.valid_scores"
   ]
  },
  {
   "cell_type": "code",
   "execution_count": 27,
   "metadata": {},
   "outputs": [],
   "source": [
    "device = torch.device(\"cuda:0\" if torch.cuda.is_available() else \"cpu\")"
   ]
  },
  {
   "cell_type": "markdown",
   "metadata": {},
   "source": [
    "# Default"
   ]
  },
  {
   "cell_type": "code",
   "execution_count": 30,
   "metadata": {},
   "outputs": [],
   "source": [
    "lr = 1e-3\n",
    "n_dim = 10\n",
    "model = models.CollaborativeMetricLearning(n_user, n_item, n_dim).to(device)\n",
    "optimizer = optim.Adam(model.parameters(), lr=lr)\n",
    "criterion = losses.SumTripletLoss(margin=1).to(device)\n",
    "sampler = samplers.BaseSampler(train_set.to(device), n_user, n_item, device=device, strict_negative=False)\n",
    "\n",
    "score_function_dict = {\n",
    "    \"nDCG\" : evaluators.ndcg,\n",
    "    \"MAP\" : evaluators.average_precision,\n",
    "    \"Recall\": evaluators.recall\n",
    "}\n",
    "evaluator = evaluators.UserwiseEvaluator(test_set.to(device), score_function_dict, ks=[3,5])\n",
    "trainer = trainers.BaseTrainer(model, optimizer, criterion, sampler)\n"
   ]
  },
  {
   "cell_type": "code",
   "execution_count": 31,
   "metadata": {},
   "outputs": [
    {
     "name": "stderr",
     "output_type": "stream",
     "text": [
      "100%|██████████| 31360/31360 [03:23<00:00, 154.38it/s]\n",
      "epoch1 avg_loss:0.969: 100%|██████████| 256/256 [00:01<00:00, 145.08it/s]\n",
      "epoch2 avg_loss:0.840: 100%|██████████| 256/256 [00:01<00:00, 147.81it/s]\n",
      "epoch3 avg_loss:0.761: 100%|██████████| 256/256 [00:01<00:00, 148.12it/s]\n",
      "epoch4 avg_loss:0.706: 100%|██████████| 256/256 [00:01<00:00, 148.50it/s]\n",
      "epoch5 avg_loss:0.669: 100%|██████████| 256/256 [00:01<00:00, 150.98it/s]\n",
      "epoch6 avg_loss:0.644: 100%|██████████| 256/256 [00:01<00:00, 148.51it/s]\n",
      "epoch7 avg_loss:0.628: 100%|██████████| 256/256 [00:01<00:00, 148.48it/s]\n",
      "epoch8 avg_loss:0.614: 100%|██████████| 256/256 [00:01<00:00, 148.40it/s]\n",
      "epoch9 avg_loss:0.602: 100%|██████████| 256/256 [00:01<00:00, 149.62it/s]\n",
      "epoch10 avg_loss:0.594: 100%|██████████| 256/256 [00:01<00:00, 150.30it/s]\n",
      "100%|██████████| 31360/31360 [03:23<00:00, 153.89it/s]\n",
      "epoch11 avg_loss:0.585: 100%|██████████| 256/256 [00:01<00:00, 149.00it/s]\n",
      "epoch12 avg_loss:0.577: 100%|██████████| 256/256 [00:01<00:00, 150.93it/s]\n",
      "epoch13 avg_loss:0.572: 100%|██████████| 256/256 [00:01<00:00, 151.09it/s]\n",
      "epoch14 avg_loss:0.566: 100%|██████████| 256/256 [00:01<00:00, 150.78it/s]\n",
      "epoch15 avg_loss:0.567: 100%|██████████| 256/256 [00:01<00:00, 150.17it/s]\n",
      "epoch16 avg_loss:0.560: 100%|██████████| 256/256 [00:01<00:00, 151.04it/s]\n",
      "epoch17 avg_loss:0.557: 100%|██████████| 256/256 [00:01<00:00, 150.09it/s]\n",
      "epoch18 avg_loss:0.552: 100%|██████████| 256/256 [00:01<00:00, 150.70it/s]\n",
      "epoch19 avg_loss:0.548: 100%|██████████| 256/256 [00:01<00:00, 150.28it/s]\n",
      "epoch20 avg_loss:0.546: 100%|██████████| 256/256 [00:01<00:00, 151.79it/s]\n",
      "100%|██████████| 31360/31360 [03:23<00:00, 154.13it/s]\n"
     ]
    }
   ],
   "source": [
    "trainer.fit(n_batch=256, n_epoch=20, valid_evaluator = evaluator, valid_per_epoch=10)"
   ]
  },
  {
   "cell_type": "code",
   "execution_count": 32,
   "metadata": {},
   "outputs": [
    {
     "data": {
      "text/html": [
       "<div>\n",
       "<style scoped>\n",
       "    .dataframe tbody tr th:only-of-type {\n",
       "        vertical-align: middle;\n",
       "    }\n",
       "\n",
       "    .dataframe tbody tr th {\n",
       "        vertical-align: top;\n",
       "    }\n",
       "\n",
       "    .dataframe thead th {\n",
       "        text-align: right;\n",
       "    }\n",
       "</style>\n",
       "<table border=\"1\" class=\"dataframe\">\n",
       "  <thead>\n",
       "    <tr style=\"text-align: right;\">\n",
       "      <th></th>\n",
       "      <th>nDCG@3</th>\n",
       "      <th>MAP@3</th>\n",
       "      <th>Recall@3</th>\n",
       "      <th>nDCG@5</th>\n",
       "      <th>MAP@5</th>\n",
       "      <th>Recall@5</th>\n",
       "      <th>epoch</th>\n",
       "      <th>loss</th>\n",
       "    </tr>\n",
       "  </thead>\n",
       "  <tbody>\n",
       "    <tr>\n",
       "      <th>0</th>\n",
       "      <td>0.998453</td>\n",
       "      <td>0.998549</td>\n",
       "      <td>0.004692</td>\n",
       "      <td>0.998452</td>\n",
       "      <td>0.998568</td>\n",
       "      <td>0.007820</td>\n",
       "      <td>0</td>\n",
       "      <td>NaN</td>\n",
       "    </tr>\n",
       "    <tr>\n",
       "      <th>0</th>\n",
       "      <td>0.998408</td>\n",
       "      <td>0.998459</td>\n",
       "      <td>0.004689</td>\n",
       "      <td>0.998437</td>\n",
       "      <td>0.998527</td>\n",
       "      <td>0.007818</td>\n",
       "      <td>10</td>\n",
       "      <td>0.593670</td>\n",
       "    </tr>\n",
       "    <tr>\n",
       "      <th>0</th>\n",
       "      <td>0.998436</td>\n",
       "      <td>0.998504</td>\n",
       "      <td>0.004691</td>\n",
       "      <td>0.998438</td>\n",
       "      <td>0.998508</td>\n",
       "      <td>0.007817</td>\n",
       "      <td>20</td>\n",
       "      <td>0.546273</td>\n",
       "    </tr>\n",
       "  </tbody>\n",
       "</table>\n",
       "</div>"
      ],
      "text/plain": [
       "     nDCG@3     MAP@3  Recall@3    nDCG@5     MAP@5  Recall@5  epoch      loss\n",
       "0  0.998453  0.998549  0.004692  0.998452  0.998568  0.007820      0       NaN\n",
       "0  0.998408  0.998459  0.004689  0.998437  0.998527  0.007818     10  0.593670\n",
       "0  0.998436  0.998504  0.004691  0.998438  0.998508  0.007817     20  0.546273"
      ]
     },
     "execution_count": 32,
     "metadata": {},
     "output_type": "execute_result"
    }
   ],
   "source": [
    "trainer.valid_scores"
   ]
  },
  {
   "cell_type": "markdown",
   "metadata": {},
   "source": [
    "# Strict Negative"
   ]
  },
  {
   "cell_type": "code",
   "execution_count": 33,
   "metadata": {},
   "outputs": [],
   "source": [
    "lr = 1e-3\n",
    "n_dim = 10\n",
    "model = models.CollaborativeMetricLearning(n_user, n_item, n_dim).to(device)\n",
    "optimizer = optim.Adam(model.parameters(), lr=lr)\n",
    "criterion = losses.SumTripletLoss(margin=1).to(device)\n",
    "sampler = samplers.BaseSampler(train_set.to(device), n_user, n_item, device=device, strict_negative=True)\n",
    "\n",
    "score_function_dict = {\n",
    "    \"nDCG\" : evaluators.ndcg,\n",
    "    \"MAP\" : evaluators.average_precision,\n",
    "    \"Recall\": evaluators.recall\n",
    "}\n",
    "evaluator = evaluators.UserwiseEvaluator(test_set.to(device), score_function_dict, ks=[3,5])\n",
    "trainer = trainers.BaseTrainer(model, optimizer, criterion, sampler)"
   ]
  },
  {
   "cell_type": "code",
   "execution_count": 34,
   "metadata": {},
   "outputs": [
    {
     "name": "stderr",
     "output_type": "stream",
     "text": [
      "100%|██████████| 31360/31360 [03:24<00:00, 153.52it/s]\n",
      "epoch1 avg_loss:0.967: 100%|██████████| 256/256 [00:03<00:00, 80.35it/s]\n",
      "epoch2 avg_loss:0.830: 100%|██████████| 256/256 [00:03<00:00, 76.04it/s]\n",
      "epoch3 avg_loss:0.747: 100%|██████████| 256/256 [00:03<00:00, 74.60it/s]\n",
      "epoch4 avg_loss:0.692: 100%|██████████| 256/256 [00:03<00:00, 71.90it/s]\n",
      "epoch5 avg_loss:0.654: 100%|██████████| 256/256 [00:03<00:00, 75.35it/s]\n",
      "epoch6 avg_loss:0.634: 100%|██████████| 256/256 [00:03<00:00, 72.57it/s]\n",
      "epoch7 avg_loss:0.611: 100%|██████████| 256/256 [00:03<00:00, 69.07it/s]\n",
      "epoch8 avg_loss:0.597: 100%|██████████| 256/256 [00:03<00:00, 72.09it/s]\n",
      "epoch9 avg_loss:0.584: 100%|██████████| 256/256 [00:03<00:00, 70.90it/s]\n",
      "epoch10 avg_loss:0.575: 100%|██████████| 256/256 [00:03<00:00, 67.89it/s]\n",
      "100%|██████████| 31360/31360 [03:24<00:00, 153.58it/s]\n",
      "epoch11 avg_loss:0.566: 100%|██████████| 256/256 [00:03<00:00, 69.69it/s]\n",
      "epoch12 avg_loss:0.566: 100%|██████████| 256/256 [00:03<00:00, 68.79it/s]\n",
      "epoch13 avg_loss:0.560: 100%|██████████| 256/256 [00:03<00:00, 72.21it/s]\n",
      "epoch14 avg_loss:0.553: 100%|██████████| 256/256 [00:03<00:00, 74.16it/s]\n",
      "epoch15 avg_loss:0.548: 100%|██████████| 256/256 [00:03<00:00, 70.98it/s]\n",
      "epoch16 avg_loss:0.541: 100%|██████████| 256/256 [00:03<00:00, 71.58it/s]\n",
      "epoch17 avg_loss:0.540: 100%|██████████| 256/256 [00:03<00:00, 72.10it/s]\n",
      "epoch18 avg_loss:0.534: 100%|██████████| 256/256 [00:03<00:00, 70.31it/s]\n",
      "epoch19 avg_loss:0.532: 100%|██████████| 256/256 [00:03<00:00, 69.39it/s]\n",
      "epoch20 avg_loss:0.529: 100%|██████████| 256/256 [00:03<00:00, 66.84it/s]\n",
      "100%|██████████| 31360/31360 [03:23<00:00, 153.97it/s]\n"
     ]
    }
   ],
   "source": [
    "trainer.fit(n_batch=256, n_epoch=20, valid_evaluator = evaluator, valid_per_epoch=10)"
   ]
  },
  {
   "cell_type": "code",
   "execution_count": 35,
   "metadata": {},
   "outputs": [
    {
     "data": {
      "text/html": [
       "<div>\n",
       "<style scoped>\n",
       "    .dataframe tbody tr th:only-of-type {\n",
       "        vertical-align: middle;\n",
       "    }\n",
       "\n",
       "    .dataframe tbody tr th {\n",
       "        vertical-align: top;\n",
       "    }\n",
       "\n",
       "    .dataframe thead th {\n",
       "        text-align: right;\n",
       "    }\n",
       "</style>\n",
       "<table border=\"1\" class=\"dataframe\">\n",
       "  <thead>\n",
       "    <tr style=\"text-align: right;\">\n",
       "      <th></th>\n",
       "      <th>nDCG@3</th>\n",
       "      <th>MAP@3</th>\n",
       "      <th>Recall@3</th>\n",
       "      <th>nDCG@5</th>\n",
       "      <th>MAP@5</th>\n",
       "      <th>Recall@5</th>\n",
       "      <th>epoch</th>\n",
       "      <th>loss</th>\n",
       "    </tr>\n",
       "  </thead>\n",
       "  <tbody>\n",
       "    <tr>\n",
       "      <th>0</th>\n",
       "      <td>0.998415</td>\n",
       "      <td>0.998475</td>\n",
       "      <td>0.004691</td>\n",
       "      <td>0.998420</td>\n",
       "      <td>0.998509</td>\n",
       "      <td>0.007818</td>\n",
       "      <td>0</td>\n",
       "      <td>NaN</td>\n",
       "    </tr>\n",
       "    <tr>\n",
       "      <th>0</th>\n",
       "      <td>0.998449</td>\n",
       "      <td>0.998517</td>\n",
       "      <td>0.004696</td>\n",
       "      <td>0.998458</td>\n",
       "      <td>0.998571</td>\n",
       "      <td>0.007826</td>\n",
       "      <td>10</td>\n",
       "      <td>0.575122</td>\n",
       "    </tr>\n",
       "    <tr>\n",
       "      <th>0</th>\n",
       "      <td>0.998496</td>\n",
       "      <td>0.998576</td>\n",
       "      <td>0.004696</td>\n",
       "      <td>0.998501</td>\n",
       "      <td>0.998609</td>\n",
       "      <td>0.007826</td>\n",
       "      <td>20</td>\n",
       "      <td>0.528670</td>\n",
       "    </tr>\n",
       "  </tbody>\n",
       "</table>\n",
       "</div>"
      ],
      "text/plain": [
       "     nDCG@3     MAP@3  Recall@3    nDCG@5     MAP@5  Recall@5  epoch      loss\n",
       "0  0.998415  0.998475  0.004691  0.998420  0.998509  0.007818      0       NaN\n",
       "0  0.998449  0.998517  0.004696  0.998458  0.998571  0.007826     10  0.575122\n",
       "0  0.998496  0.998576  0.004696  0.998501  0.998609  0.007826     20  0.528670"
      ]
     },
     "execution_count": 35,
     "metadata": {},
     "output_type": "execute_result"
    }
   ],
   "source": [
    "trainer.valid_scores"
   ]
  },
  {
   "cell_type": "markdown",
   "metadata": {},
   "source": [
    "# Two Stage"
   ]
  },
  {
   "cell_type": "code",
   "execution_count": 36,
   "metadata": {},
   "outputs": [],
   "source": [
    "item_count = train.groupby(\"item_id\")[\"user_id\"].count()\n",
    "count_index = np.array(item_count.index)\n",
    "neg_weight = np.zeros(n_item)\n",
    "neg_weight[count_index] = item_count ** 0.1"
   ]
  },
  {
   "cell_type": "code",
   "execution_count": 37,
   "metadata": {},
   "outputs": [],
   "source": [
    "lr = 1e-3\n",
    "n_dim = 10\n",
    "model = models.CollaborativeMetricLearning(n_user, n_item, n_dim).to(device)\n",
    "optimizer = optim.Adam(model.parameters(), lr=lr)\n",
    "\n",
    "regs = [regularizers.GlobalOrthogonalRegularizer(weight=1e-3)]\n",
    "criterion = losses.MinTripletLoss(margin=1, regularizers=regs).to(device)\n",
    "sampler = samplers.TwoStageSampler(\n",
    "    train_set.to(device), n_user, n_item, \n",
    "    neg_weight=neg_weight, n_neg_samples=5,\n",
    "    device=device, strict_negative=False\n",
    ")\n",
    "\n",
    "score_function_dict = {\n",
    "    \"nDCG\" : evaluators.ndcg,\n",
    "    \"MAP\" : evaluators.average_precision,\n",
    "    \"Recall\": evaluators.recall\n",
    "}\n",
    "evaluator = evaluators.UserwiseEvaluator(test_set.to(device), score_function_dict, ks=[3,5])\n",
    "trainer = trainers.BaseTrainer(model, optimizer, criterion, sampler)"
   ]
  },
  {
   "cell_type": "code",
   "execution_count": 38,
   "metadata": {},
   "outputs": [
    {
     "name": "stderr",
     "output_type": "stream",
     "text": [
      "100%|██████████| 31360/31360 [03:25<00:00, 152.36it/s]\n",
      "epoch1 avg_loss:1.553: 100%|██████████| 256/256 [00:02<00:00, 118.55it/s]\n",
      "epoch2 avg_loss:1.423: 100%|██████████| 256/256 [00:02<00:00, 120.05it/s]\n",
      "epoch3 avg_loss:1.329: 100%|██████████| 256/256 [00:02<00:00, 120.93it/s]\n",
      "epoch4 avg_loss:1.268: 100%|██████████| 256/256 [00:02<00:00, 119.36it/s]\n",
      "epoch5 avg_loss:1.223: 100%|██████████| 256/256 [00:02<00:00, 120.24it/s]\n",
      "epoch6 avg_loss:1.188: 100%|██████████| 256/256 [00:02<00:00, 118.17it/s]\n",
      "epoch7 avg_loss:1.165: 100%|██████████| 256/256 [00:02<00:00, 120.50it/s]\n",
      "epoch8 avg_loss:1.149: 100%|██████████| 256/256 [00:02<00:00, 121.65it/s]\n",
      "epoch9 avg_loss:1.131: 100%|██████████| 256/256 [00:02<00:00, 121.40it/s]\n",
      "epoch10 avg_loss:1.118: 100%|██████████| 256/256 [00:02<00:00, 120.84it/s]\n",
      "100%|██████████| 31360/31360 [03:23<00:00, 154.14it/s]\n",
      "epoch11 avg_loss:1.110: 100%|██████████| 256/256 [00:02<00:00, 116.94it/s]\n",
      "epoch12 avg_loss:1.096: 100%|██████████| 256/256 [00:02<00:00, 117.69it/s]\n",
      "epoch13 avg_loss:1.090: 100%|██████████| 256/256 [00:02<00:00, 117.48it/s]\n",
      "epoch14 avg_loss:1.087: 100%|██████████| 256/256 [00:02<00:00, 117.58it/s]\n",
      "epoch15 avg_loss:1.078: 100%|██████████| 256/256 [00:02<00:00, 116.60it/s]\n",
      "epoch16 avg_loss:1.067: 100%|██████████| 256/256 [00:02<00:00, 116.99it/s]\n",
      "epoch17 avg_loss:1.067: 100%|██████████| 256/256 [00:02<00:00, 117.01it/s]\n",
      "epoch18 avg_loss:1.061: 100%|██████████| 256/256 [00:02<00:00, 117.11it/s]\n",
      "epoch19 avg_loss:1.056: 100%|██████████| 256/256 [00:02<00:00, 117.04it/s]\n",
      "epoch20 avg_loss:1.054: 100%|██████████| 256/256 [00:02<00:00, 117.03it/s]\n",
      "100%|██████████| 31360/31360 [03:24<00:00, 153.61it/s]\n"
     ]
    }
   ],
   "source": [
    "trainer.fit(n_batch=256, n_epoch=20, valid_evaluator = evaluator, valid_per_epoch=10)"
   ]
  },
  {
   "cell_type": "code",
   "execution_count": 39,
   "metadata": {},
   "outputs": [
    {
     "data": {
      "text/html": [
       "<div>\n",
       "<style scoped>\n",
       "    .dataframe tbody tr th:only-of-type {\n",
       "        vertical-align: middle;\n",
       "    }\n",
       "\n",
       "    .dataframe tbody tr th {\n",
       "        vertical-align: top;\n",
       "    }\n",
       "\n",
       "    .dataframe thead th {\n",
       "        text-align: right;\n",
       "    }\n",
       "</style>\n",
       "<table border=\"1\" class=\"dataframe\">\n",
       "  <thead>\n",
       "    <tr style=\"text-align: right;\">\n",
       "      <th></th>\n",
       "      <th>nDCG@3</th>\n",
       "      <th>MAP@3</th>\n",
       "      <th>Recall@3</th>\n",
       "      <th>nDCG@5</th>\n",
       "      <th>MAP@5</th>\n",
       "      <th>Recall@5</th>\n",
       "      <th>epoch</th>\n",
       "      <th>loss</th>\n",
       "    </tr>\n",
       "  </thead>\n",
       "  <tbody>\n",
       "    <tr>\n",
       "      <th>0</th>\n",
       "      <td>0.998436</td>\n",
       "      <td>0.998483</td>\n",
       "      <td>0.004692</td>\n",
       "      <td>0.998423</td>\n",
       "      <td>0.998498</td>\n",
       "      <td>0.007819</td>\n",
       "      <td>0</td>\n",
       "      <td>NaN</td>\n",
       "    </tr>\n",
       "    <tr>\n",
       "      <th>0</th>\n",
       "      <td>0.998501</td>\n",
       "      <td>0.998597</td>\n",
       "      <td>0.004695</td>\n",
       "      <td>0.998501</td>\n",
       "      <td>0.998603</td>\n",
       "      <td>0.007823</td>\n",
       "      <td>10</td>\n",
       "      <td>1.117649</td>\n",
       "    </tr>\n",
       "    <tr>\n",
       "      <th>0</th>\n",
       "      <td>0.998552</td>\n",
       "      <td>0.998658</td>\n",
       "      <td>0.004698</td>\n",
       "      <td>0.998565</td>\n",
       "      <td>0.998664</td>\n",
       "      <td>0.007829</td>\n",
       "      <td>20</td>\n",
       "      <td>1.053914</td>\n",
       "    </tr>\n",
       "  </tbody>\n",
       "</table>\n",
       "</div>"
      ],
      "text/plain": [
       "     nDCG@3     MAP@3  Recall@3    nDCG@5     MAP@5  Recall@5  epoch      loss\n",
       "0  0.998436  0.998483  0.004692  0.998423  0.998498  0.007819      0       NaN\n",
       "0  0.998501  0.998597  0.004695  0.998501  0.998603  0.007823     10  1.117649\n",
       "0  0.998552  0.998658  0.004698  0.998565  0.998664  0.007829     20  1.053914"
      ]
     },
     "execution_count": 39,
     "metadata": {},
     "output_type": "execute_result"
    }
   ],
   "source": [
    "trainer.valid_scores"
   ]
  },
  {
   "cell_type": "code",
   "execution_count": null,
   "metadata": {},
   "outputs": [],
   "source": [
    "trainer."
   ]
  }
 ],
 "metadata": {
  "interpreter": {
   "hash": "1a6e8c4c71356cfd7f7f45384d81183fdca12e98ad893ee020bd76249bbd6be9"
  },
  "kernelspec": {
   "display_name": "Python 3.8.6 64-bit ('pytorchcml-MJCCLiEQ-py3.8': poetry)",
   "name": "python3"
  },
  "language_info": {
   "codemirror_mode": {
    "name": "ipython",
    "version": 3
   },
   "file_extension": ".py",
   "mimetype": "text/x-python",
   "name": "python",
   "nbconvert_exporter": "python",
   "pygments_lexer": "ipython3",
   "version": "3.8.5"
  }
 },
 "nbformat": 4,
 "nbformat_minor": 4
}
