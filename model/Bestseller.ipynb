{
 "cells": [
  {
   "cell_type": "markdown",
   "metadata": {},
   "source": [
    "#### 본 영화 뺀 Bestseller"
   ]
  },
  {
   "cell_type": "code",
   "execution_count": 1,
   "metadata": {},
   "outputs": [],
   "source": [
    "import pandas as pd\n",
    "import numpy as np\n",
    "from tqdm import tqdm\n",
    "from collections import defaultdict\n",
    "import ast"
   ]
  },
  {
   "cell_type": "code",
   "execution_count": 42,
   "metadata": {},
   "outputs": [],
   "source": [
    "# # 유저별로 본 영화 딕셔너리에 담기\n",
    "# seen = defaultdict(list)"
   ]
  },
  {
   "cell_type": "code",
   "execution_count": 43,
   "metadata": {},
   "outputs": [],
   "source": [
    "# for user in tqdm(train_df['user'].unique()):\n",
    "#     for item in train_df[train_df['user']==user]['item'].unique():\n",
    "#         seen[user].append(item)"
   ]
  },
  {
   "cell_type": "code",
   "execution_count": 44,
   "metadata": {},
   "outputs": [],
   "source": [
    "# # 데이터프레임으로 만들어서 csv 저장\n",
    "# seen_df = pd.DataFrame(list(seen.items()), columns=['user', 'seen'])\n",
    "# seen_df.to_csv('seen_movie.csv', index=False)"
   ]
  },
  {
   "cell_type": "code",
   "execution_count": 4,
   "metadata": {},
   "outputs": [],
   "source": [
    "# 전체 학습 데이터\n",
    "train_df = pd.read_csv('data/train/train_ratings.csv')"
   ]
  },
  {
   "cell_type": "code",
   "execution_count": 46,
   "metadata": {},
   "outputs": [],
   "source": [
    "# 유저별로 본 영화 저장한 csv 불러오기\n",
    "seen_df = pd.read_csv('seen_movie.csv')"
   ]
  },
  {
   "cell_type": "code",
   "execution_count": 47,
   "metadata": {},
   "outputs": [
    {
     "name": "stderr",
     "output_type": "stream",
     "text": [
      "100%|██████████| 31360/31360 [00:09<00:00, 3138.57it/s]\n"
     ]
    }
   ],
   "source": [
    "# 딕셔너리 형태로 변경\n",
    "seen_dic = seen_df.set_index('user').to_dict()['seen']\n",
    "\n",
    "for key in tqdm(seen_dic.keys()):\n",
    "    seen_dic[key] = ast.literal_eval(seen_dic[key])"
   ]
  },
  {
   "cell_type": "code",
   "execution_count": 48,
   "metadata": {},
   "outputs": [],
   "source": [
    "# 제출용 빈 데이터프레임 생성\n",
    "user_unique = train_df['user'].unique()\n",
    "users = user_unique.repeat(10)\n",
    "test_df = pd.DataFrame(users, columns=['user'])\n",
    "test_df['item']=0"
   ]
  },
  {
   "cell_type": "code",
   "execution_count": 49,
   "metadata": {},
   "outputs": [],
   "source": [
    "# 영화들 평가된 횟수 기준 내림차순 정렬\n",
    "mp_items = list(train_df['item'].value_counts().index)"
   ]
  },
  {
   "cell_type": "code",
   "execution_count": 50,
   "metadata": {},
   "outputs": [
    {
     "name": "stderr",
     "output_type": "stream",
     "text": [
      "100%|██████████| 31360/31360 [01:59<00:00, 261.54it/s]\n"
     ]
    }
   ],
   "source": [
    "# 유저별로 인기 영화에서 본 영화 빼고 10개씩 추천\n",
    "index = 0\n",
    "for user in tqdm(user_unique):\n",
    "    temp_items = mp_items.copy()\n",
    "    for movie in seen_dic[user]:\n",
    "        temp_items.remove(movie)\n",
    "    for i in range(10):\n",
    "        test_df.loc[index + i, 'item'] = temp_items[i]\n",
    "    index += 10"
   ]
  },
  {
   "cell_type": "code",
   "execution_count": 60,
   "metadata": {},
   "outputs": [],
   "source": [
    "test_df.to_csv(\"Bestseller.csv\", index=False)"
   ]
  }
 ],
 "metadata": {
  "interpreter": {
   "hash": "bfa81b72877e17ffd13af81ffddaaec7ef27eaa133a544c733d5043efbc1f4c7"
  },
  "kernelspec": {
   "display_name": "Python 3.8.5 ('.venv': venv)",
   "language": "python",
   "name": "python3"
  },
  "language_info": {
   "codemirror_mode": {
    "name": "ipython",
    "version": 3
   },
   "file_extension": ".py",
   "mimetype": "text/x-python",
   "name": "python",
   "nbconvert_exporter": "python",
   "pygments_lexer": "ipython3",
   "version": "3.8.5"
  },
  "orig_nbformat": 4
 },
 "nbformat": 4,
 "nbformat_minor": 2
}
