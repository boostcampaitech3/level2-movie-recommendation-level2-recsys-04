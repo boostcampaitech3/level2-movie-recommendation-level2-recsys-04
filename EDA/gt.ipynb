{
 "cells": [
  {
   "cell_type": "markdown",
   "metadata": {},
   "source": [
    "### MovieLens 20M 데이터(gt)와 train_df를 비교하는 파일\n",
    "##### gt가 아닐 수도 있긴 하지만.."
   ]
  },
  {
   "cell_type": "code",
   "execution_count": 14,
   "metadata": {},
   "outputs": [],
   "source": [
    "import pandas as pd\n",
    "import time\n",
    "import os\n",
    "from IPython.display import display_html\n",
    "from tqdm import tqdm"
   ]
  },
  {
   "cell_type": "code",
   "execution_count": 15,
   "metadata": {},
   "outputs": [],
   "source": [
    "#데이터 프레임 가로 출력 함수\n",
    "def display_dfs(dfs, gap=50, justify='center'):\n",
    "    html = \"\"\n",
    "    for title, df in dfs.items():  \n",
    "        df_html = df._repr_html_()\n",
    "        cur_html = f'<div> <h3>{title}</h3> {df_html}</div>'\n",
    "        html +=  cur_html\n",
    "    html= f\"\"\"\n",
    "    <div style=\"display:flex; gap:{gap}px; justify-content:{justify};\">\n",
    "        {html}\n",
    "    </div>\n",
    "    \"\"\"\n",
    "    display_html(html, raw=True)"
   ]
  },
  {
   "cell_type": "code",
   "execution_count": 16,
   "metadata": {},
   "outputs": [],
   "source": [
    "# 전체 학습 데이터\n",
    "data_path = 'data/train'\n",
    "train_df = pd.read_csv(os.path.join(data_path, 'train_ratings.csv'))"
   ]
  },
  {
   "cell_type": "code",
   "execution_count": 17,
   "metadata": {},
   "outputs": [],
   "source": [
    "# 무비렌즈 오픈 데이터셋 ml-20m, gt로 명명\n",
    "gt_df = pd.read_csv('/opt/ml/input/ml-20m/ratings.csv')"
   ]
  },
  {
   "cell_type": "code",
   "execution_count": 18,
   "metadata": {},
   "outputs": [],
   "source": [
    "# train 데이터셋에 있는 user와 item으로 필터링\n",
    "isinfilter = gt_df['userId'].isin(train_df['user'].unique())\n",
    "gt_df = gt_df[isinfilter]\n",
    "isinfilter = gt_df['movieId'].isin(train_df['item'].unique())\n",
    "gt_df = gt_df[isinfilter]"
   ]
  },
  {
   "cell_type": "code",
   "execution_count": 19,
   "metadata": {},
   "outputs": [],
   "source": [
    "# timestamp datetime 객체로 변환\n",
    "train_df['time'] = pd.to_datetime(train_df['time'].apply(lambda x:time.strftime('%Y-%m-%d %H:%M:%S', time.localtime(x))))\n",
    "gt_df['timestamp'] = pd.to_datetime(gt_df['timestamp'].apply(lambda x:time.strftime('%Y-%m-%d %H:%M:%S', time.localtime(x))))"
   ]
  },
  {
   "cell_type": "code",
   "execution_count": 20,
   "metadata": {},
   "outputs": [
    {
     "data": {
      "text/plain": [
       "Timestamp('2005-04-11 11:56:25')"
      ]
     },
     "execution_count": 20,
     "metadata": {},
     "output_type": "execute_result"
    }
   ],
   "source": [
    "# train_df의 가장 과거 시간 확인\n",
    "min(train_df['time'])"
   ]
  },
  {
   "cell_type": "code",
   "execution_count": 21,
   "metadata": {},
   "outputs": [],
   "source": [
    "# train_df의 가장 과거 시간으로 필터링(안 하면 4개보다 차이나는 유저가 약 2700명 생김)\n",
    "gt_df = gt_df[gt_df['timestamp']>='2005-04-11 11:56:25']"
   ]
  },
  {
   "cell_type": "code",
   "execution_count": 22,
   "metadata": {},
   "outputs": [
    {
     "data": {
      "text/html": [
       "<div>\n",
       "<style scoped>\n",
       "    .dataframe tbody tr th:only-of-type {\n",
       "        vertical-align: middle;\n",
       "    }\n",
       "\n",
       "    .dataframe tbody tr th {\n",
       "        vertical-align: top;\n",
       "    }\n",
       "\n",
       "    .dataframe thead th {\n",
       "        text-align: right;\n",
       "    }\n",
       "</style>\n",
       "<table border=\"1\" class=\"dataframe\">\n",
       "  <thead>\n",
       "    <tr style=\"text-align: right;\">\n",
       "      <th></th>\n",
       "      <th>item</th>\n",
       "      <th>time</th>\n",
       "    </tr>\n",
       "    <tr>\n",
       "      <th>user</th>\n",
       "      <th></th>\n",
       "      <th></th>\n",
       "    </tr>\n",
       "  </thead>\n",
       "  <tbody>\n",
       "    <tr>\n",
       "      <th>53188</th>\n",
       "      <td>16</td>\n",
       "      <td>16</td>\n",
       "    </tr>\n",
       "    <tr>\n",
       "      <th>68606</th>\n",
       "      <td>19</td>\n",
       "      <td>19</td>\n",
       "    </tr>\n",
       "    <tr>\n",
       "      <th>105578</th>\n",
       "      <td>22</td>\n",
       "      <td>22</td>\n",
       "    </tr>\n",
       "    <tr>\n",
       "      <th>128756</th>\n",
       "      <td>28</td>\n",
       "      <td>28</td>\n",
       "    </tr>\n",
       "    <tr>\n",
       "      <th>11211</th>\n",
       "      <td>32</td>\n",
       "      <td>32</td>\n",
       "    </tr>\n",
       "    <tr>\n",
       "      <th>...</th>\n",
       "      <td>...</td>\n",
       "      <td>...</td>\n",
       "    </tr>\n",
       "    <tr>\n",
       "      <th>91349</th>\n",
       "      <td>1795</td>\n",
       "      <td>1795</td>\n",
       "    </tr>\n",
       "    <tr>\n",
       "      <th>32514</th>\n",
       "      <td>1830</td>\n",
       "      <td>1830</td>\n",
       "    </tr>\n",
       "    <tr>\n",
       "      <th>24219</th>\n",
       "      <td>1842</td>\n",
       "      <td>1842</td>\n",
       "    </tr>\n",
       "    <tr>\n",
       "      <th>54465</th>\n",
       "      <td>1980</td>\n",
       "      <td>1980</td>\n",
       "    </tr>\n",
       "    <tr>\n",
       "      <th>8405</th>\n",
       "      <td>2912</td>\n",
       "      <td>2912</td>\n",
       "    </tr>\n",
       "  </tbody>\n",
       "</table>\n",
       "<p>31360 rows × 2 columns</p>\n",
       "</div>"
      ],
      "text/plain": [
       "        item  time\n",
       "user              \n",
       "53188     16    16\n",
       "68606     19    19\n",
       "105578    22    22\n",
       "128756    28    28\n",
       "11211     32    32\n",
       "...      ...   ...\n",
       "91349   1795  1795\n",
       "32514   1830  1830\n",
       "24219   1842  1842\n",
       "54465   1980  1980\n",
       "8405    2912  2912\n",
       "\n",
       "[31360 rows x 2 columns]"
      ]
     },
     "execution_count": 22,
     "metadata": {},
     "output_type": "execute_result"
    }
   ],
   "source": [
    "# 본 영화가 적어서 비교하기 쉬운 user 확인\n",
    "train_df.groupby('user').count().sort_values('item')"
   ]
  },
  {
   "cell_type": "code",
   "execution_count": 23,
   "metadata": {},
   "outputs": [
    {
     "name": "stdout",
     "output_type": "stream",
     "text": [
      "train_df 길이: 376\n",
      "gt_df 길이: 380\n"
     ]
    },
    {
     "data": {
      "text/html": [
       "\n",
       "    <div style=\"display:flex; gap:50px; justify-content:flex-start;\">\n",
       "        <div> <h3>train_df</h3> <div>\n",
       "<style scoped>\n",
       "    .dataframe tbody tr th:only-of-type {\n",
       "        vertical-align: middle;\n",
       "    }\n",
       "\n",
       "    .dataframe tbody tr th {\n",
       "        vertical-align: top;\n",
       "    }\n",
       "\n",
       "    .dataframe thead th {\n",
       "        text-align: right;\n",
       "    }\n",
       "</style>\n",
       "<table border=\"1\" class=\"dataframe\">\n",
       "  <thead>\n",
       "    <tr style=\"text-align: right;\">\n",
       "      <th></th>\n",
       "      <th>user</th>\n",
       "      <th>item</th>\n",
       "      <th>time</th>\n",
       "    </tr>\n",
       "  </thead>\n",
       "  <tbody>\n",
       "    <tr>\n",
       "      <th>0</th>\n",
       "      <td>11</td>\n",
       "      <td>4643</td>\n",
       "      <td>2009-01-01 04:02:09</td>\n",
       "    </tr>\n",
       "    <tr>\n",
       "      <th>1</th>\n",
       "      <td>11</td>\n",
       "      <td>170</td>\n",
       "      <td>2009-01-01 04:02:14</td>\n",
       "    </tr>\n",
       "    <tr>\n",
       "      <th>2</th>\n",
       "      <td>11</td>\n",
       "      <td>531</td>\n",
       "      <td>2009-01-01 04:02:19</td>\n",
       "    </tr>\n",
       "    <tr>\n",
       "      <th>3</th>\n",
       "      <td>11</td>\n",
       "      <td>616</td>\n",
       "      <td>2009-01-01 04:02:22</td>\n",
       "    </tr>\n",
       "    <tr>\n",
       "      <th>4</th>\n",
       "      <td>11</td>\n",
       "      <td>2140</td>\n",
       "      <td>2009-01-01 04:02:43</td>\n",
       "    </tr>\n",
       "    <tr>\n",
       "      <th>...</th>\n",
       "      <td>...</td>\n",
       "      <td>...</td>\n",
       "      <td>...</td>\n",
       "    </tr>\n",
       "    <tr>\n",
       "      <th>371</th>\n",
       "      <td>11</td>\n",
       "      <td>48738</td>\n",
       "      <td>2011-01-12 01:35:06</td>\n",
       "    </tr>\n",
       "    <tr>\n",
       "      <th>372</th>\n",
       "      <td>11</td>\n",
       "      <td>6291</td>\n",
       "      <td>2011-01-12 01:35:13</td>\n",
       "    </tr>\n",
       "    <tr>\n",
       "      <th>373</th>\n",
       "      <td>11</td>\n",
       "      <td>46578</td>\n",
       "      <td>2011-01-12 01:35:19</td>\n",
       "    </tr>\n",
       "    <tr>\n",
       "      <th>374</th>\n",
       "      <td>11</td>\n",
       "      <td>7153</td>\n",
       "      <td>2011-01-12 01:35:32</td>\n",
       "    </tr>\n",
       "    <tr>\n",
       "      <th>375</th>\n",
       "      <td>11</td>\n",
       "      <td>4226</td>\n",
       "      <td>2011-01-12 01:35:59</td>\n",
       "    </tr>\n",
       "  </tbody>\n",
       "</table>\n",
       "<p>376 rows × 3 columns</p>\n",
       "</div></div><div> <h3>gt_df</h3> <div>\n",
       "<style scoped>\n",
       "    .dataframe tbody tr th:only-of-type {\n",
       "        vertical-align: middle;\n",
       "    }\n",
       "\n",
       "    .dataframe tbody tr th {\n",
       "        vertical-align: top;\n",
       "    }\n",
       "\n",
       "    .dataframe thead th {\n",
       "        text-align: right;\n",
       "    }\n",
       "</style>\n",
       "<table border=\"1\" class=\"dataframe\">\n",
       "  <thead>\n",
       "    <tr style=\"text-align: right;\">\n",
       "      <th></th>\n",
       "      <th>userId</th>\n",
       "      <th>movieId</th>\n",
       "      <th>rating</th>\n",
       "      <th>timestamp</th>\n",
       "    </tr>\n",
       "  </thead>\n",
       "  <tbody>\n",
       "    <tr>\n",
       "      <th>1192</th>\n",
       "      <td>11</td>\n",
       "      <td>4643</td>\n",
       "      <td>4.5</td>\n",
       "      <td>2009-01-01 04:02:09</td>\n",
       "    </tr>\n",
       "    <tr>\n",
       "      <th>973</th>\n",
       "      <td>11</td>\n",
       "      <td>170</td>\n",
       "      <td>5.0</td>\n",
       "      <td>2009-01-01 04:02:14</td>\n",
       "    </tr>\n",
       "    <tr>\n",
       "      <th>1001</th>\n",
       "      <td>11</td>\n",
       "      <td>531</td>\n",
       "      <td>4.5</td>\n",
       "      <td>2009-01-01 04:02:19</td>\n",
       "    </tr>\n",
       "    <tr>\n",
       "      <th>1016</th>\n",
       "      <td>11</td>\n",
       "      <td>616</td>\n",
       "      <td>4.0</td>\n",
       "      <td>2009-01-01 04:02:22</td>\n",
       "    </tr>\n",
       "    <tr>\n",
       "      <th>1096</th>\n",
       "      <td>11</td>\n",
       "      <td>2140</td>\n",
       "      <td>5.0</td>\n",
       "      <td>2009-01-01 04:02:43</td>\n",
       "    </tr>\n",
       "    <tr>\n",
       "      <th>...</th>\n",
       "      <td>...</td>\n",
       "      <td>...</td>\n",
       "      <td>...</td>\n",
       "      <td>...</td>\n",
       "    </tr>\n",
       "    <tr>\n",
       "      <th>1368</th>\n",
       "      <td>11</td>\n",
       "      <td>46578</td>\n",
       "      <td>5.0</td>\n",
       "      <td>2011-01-12 01:35:19</td>\n",
       "    </tr>\n",
       "    <tr>\n",
       "      <th>1267</th>\n",
       "      <td>11</td>\n",
       "      <td>7153</td>\n",
       "      <td>5.0</td>\n",
       "      <td>2011-01-12 01:35:32</td>\n",
       "    </tr>\n",
       "    <tr>\n",
       "      <th>1175</th>\n",
       "      <td>11</td>\n",
       "      <td>4226</td>\n",
       "      <td>5.0</td>\n",
       "      <td>2011-01-12 01:35:59</td>\n",
       "    </tr>\n",
       "    <tr>\n",
       "      <th>1315</th>\n",
       "      <td>11</td>\n",
       "      <td>30707</td>\n",
       "      <td>5.0</td>\n",
       "      <td>2011-01-12 01:36:16</td>\n",
       "    </tr>\n",
       "    <tr>\n",
       "      <th>1231</th>\n",
       "      <td>11</td>\n",
       "      <td>5971</td>\n",
       "      <td>5.0</td>\n",
       "      <td>2011-01-12 01:36:41</td>\n",
       "    </tr>\n",
       "  </tbody>\n",
       "</table>\n",
       "<p>380 rows × 4 columns</p>\n",
       "</div></div>\n",
       "    </div>\n",
       "    "
      ]
     },
     "metadata": {},
     "output_type": "display_data"
    }
   ],
   "source": [
    "# user_id 넣어서 눈으로 비교하기(눈으로 봐도 4개 빼고 다 같음)\n",
    "# 다른 4개 중 2개는 맨 뒤 2개\n",
    "# 나머지 2개는 규칙성을 못 찾겠음(랜덤 같음)\n",
    "user_id = 11\n",
    "rating_cutoff = 3.5\n",
    "\n",
    "temp = gt_df[gt_df['userId']==user_id].sort_values('timestamp')\n",
    "\n",
    "print(f\"train_df 길이: {len(train_df[train_df['user']==user_id])}\")\n",
    "print(f\"gt_df 길이: {len(temp[temp['rating']>=rating_cutoff])}\")\n",
    "\n",
    "dfs = {'train_df':train_df[train_df['user']==user_id], 'gt_df':temp[temp['rating']>=rating_cutoff]}\n",
    "display_dfs(dfs, justify='flex-start')"
   ]
  },
  {
   "cell_type": "code",
   "execution_count": 80,
   "metadata": {},
   "outputs": [
    {
     "name": "stderr",
     "output_type": "stream",
     "text": [
      "100%|██████████| 31360/31360 [10:14<00:00, 51.00it/s]\n"
     ]
    }
   ],
   "source": [
    "# user별로 train_df와 gt_df간의 아이템 수 차이 구하기\n",
    "gt_diff_cnt = {}\n",
    "for user in tqdm(train_df['user'].unique()):\n",
    "    temp = gt_df[gt_df['userId']==user]\n",
    "    gt_diff_cnt[user] =  len(temp[temp['rating']>=rating_cutoff]) - len(train_df[train_df['user']==user])"
   ]
  },
  {
   "cell_type": "code",
   "execution_count": 81,
   "metadata": {},
   "outputs": [],
   "source": [
    "# 데이터프레임화\n",
    "diff_cnt_df = pd.DataFrame(list(gt_diff_cnt.items()), columns=['user', 'gt_diff_cnt'])"
   ]
  },
  {
   "cell_type": "code",
   "execution_count": 82,
   "metadata": {},
   "outputs": [
    {
     "data": {
      "text/html": [
       "<div>\n",
       "<style scoped>\n",
       "    .dataframe tbody tr th:only-of-type {\n",
       "        vertical-align: middle;\n",
       "    }\n",
       "\n",
       "    .dataframe tbody tr th {\n",
       "        vertical-align: top;\n",
       "    }\n",
       "\n",
       "    .dataframe thead th {\n",
       "        text-align: right;\n",
       "    }\n",
       "</style>\n",
       "<table border=\"1\" class=\"dataframe\">\n",
       "  <thead>\n",
       "    <tr style=\"text-align: right;\">\n",
       "      <th></th>\n",
       "      <th>user</th>\n",
       "      <th>gt_diff_cnt</th>\n",
       "    </tr>\n",
       "  </thead>\n",
       "  <tbody>\n",
       "  </tbody>\n",
       "</table>\n",
       "</div>"
      ],
      "text/plain": [
       "Empty DataFrame\n",
       "Columns: [user, gt_diff_cnt]\n",
       "Index: []"
      ]
     },
     "execution_count": 82,
     "metadata": {},
     "output_type": "execute_result"
    }
   ],
   "source": [
    "# 차이가 4개가 아닌 user 없음\n",
    "diff_cnt_df[diff_cnt_df['gt_diff_cnt']!=4]"
   ]
  },
  {
   "cell_type": "code",
   "execution_count": 13,
   "metadata": {},
   "outputs": [
    {
     "data": {
      "text/html": [
       "<div>\n",
       "<style scoped>\n",
       "    .dataframe tbody tr th:only-of-type {\n",
       "        vertical-align: middle;\n",
       "    }\n",
       "\n",
       "    .dataframe tbody tr th {\n",
       "        vertical-align: top;\n",
       "    }\n",
       "\n",
       "    .dataframe thead th {\n",
       "        text-align: right;\n",
       "    }\n",
       "</style>\n",
       "<table border=\"1\" class=\"dataframe\">\n",
       "  <thead>\n",
       "    <tr style=\"text-align: right;\">\n",
       "      <th></th>\n",
       "      <th>user</th>\n",
       "      <th>item</th>\n",
       "      <th>time</th>\n",
       "    </tr>\n",
       "  </thead>\n",
       "  <tbody>\n",
       "  </tbody>\n",
       "</table>\n",
       "</div>"
      ],
      "text/plain": [
       "Empty DataFrame\n",
       "Columns: [user, item, time]\n",
       "Index: []"
      ]
     },
     "execution_count": 13,
     "metadata": {},
     "output_type": "execute_result"
    }
   ],
   "source": [
    "train_df[(train_df['user']==11) &(train_df['item']==58025)]"
   ]
  },
  {
   "cell_type": "code",
   "execution_count": 34,
   "metadata": {},
   "outputs": [
    {
     "name": "stderr",
     "output_type": "stream",
     "text": [
      "100%|██████████| 31360/31360 [10:31<00:00, 49.65it/s]\n"
     ]
    }
   ],
   "source": [
    "# # 유저별로 gt에만 있는 4개의 데이터를 담은 리스트를 csv로 저장\n",
    "# diff_dic = {}\n",
    "# for user in tqdm(train_df['user'].unique()):\n",
    "#     train_temp = train_df[train_df['user']==user]\n",
    "#     temp = gt_df[gt_df['userId']==user].sort_values('timestamp')\n",
    "#     gt_temp = temp[temp['rating']>=rating_cutoff]\n",
    "\n",
    "#     diff_dic[user] = list(set(gt_temp['movieId'].unique()) - set(train_temp['item'].unique()))\n",
    "\n",
    "# diff_df = pd.DataFrame(list(diff_dic.items()), columns=['user', 'diff'])\n",
    "# diff_df.to_csv('diff_movie4.csv', index=False)"
   ]
  },
  {
   "cell_type": "code",
   "execution_count": null,
   "metadata": {},
   "outputs": [],
   "source": []
  }
 ],
 "metadata": {
  "interpreter": {
   "hash": "bfa81b72877e17ffd13af81ffddaaec7ef27eaa133a544c733d5043efbc1f4c7"
  },
  "kernelspec": {
   "display_name": "Python 3.8.5 ('.venv': venv)",
   "language": "python",
   "name": "python3"
  },
  "language_info": {
   "codemirror_mode": {
    "name": "ipython",
    "version": 3
   },
   "file_extension": ".py",
   "mimetype": "text/x-python",
   "name": "python",
   "nbconvert_exporter": "python",
   "pygments_lexer": "ipython3",
   "version": "3.8.5"
  },
  "orig_nbformat": 4
 },
 "nbformat": 4,
 "nbformat_minor": 2
}
